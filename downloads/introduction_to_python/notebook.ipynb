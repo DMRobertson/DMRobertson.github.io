{
 "cells": [
  {
   "cell_type": "markdown",
   "metadata": {
    "deletable": true,
    "editable": true,
    "slideshow": {
     "slide_type": "slide"
    }
   },
   "source": [
    "# Introduction to Python\n",
    "\n",
    "*for scientific computing*\n",
    "\n",
    "![The Python logo](https://www.python.org/static/community_logos/python-logo-master-v3-TM-flattened.png)"
   ]
  },
  {
   "cell_type": "markdown",
   "metadata": {
    "deletable": true,
    "editable": true,
    "slideshow": {
     "slide_type": "subslide"
    }
   },
   "source": [
    "## Jupyter\n",
    "\n",
    "* We'll use \"**Jupyter Notebook**\" to interact with Python.\n",
    "* Like Matlab's 'Live Editor'; Maple's and Mathematica's notebooks.\n",
    "* Runs in a *web browser*."
   ]
  },
  {
   "cell_type": "markdown",
   "metadata": {
    "deletable": true,
    "editable": true,
    "slideshow": {
     "slide_type": "fragment"
    }
   },
   "source": [
    "To get started:\n",
    "\n",
    "\n",
    "# [``mas-jupyter.ncl.ac.uk``](https://mas-jupyter.ncl.ac.uk)\n",
    "\n",
    "* Login with your usual university details\n",
    "* Open ``language.ipynb``"
   ]
  },
  {
   "cell_type": "markdown",
   "metadata": {
    "deletable": true,
    "editable": true,
    "slideshow": {
     "slide_type": "subslide"
    }
   },
   "source": [
    "![Screenshot showing the jupyter home page](http://www.mas.ncl.ac.uk/~b0036119/jupyter_screenshot.png)"
   ]
  },
  {
   "cell_type": "markdown",
   "metadata": {
    "deletable": true,
    "editable": true,
    "slideshow": {
     "slide_type": "subslide"
    }
   },
   "source": [
    "You can edit the code samples from the slides **live** and run them as you please.\n",
    "\n",
    "* Double-click a cell to edit it.\n",
    "* To run a cell's contents, use ``Control-Enter``.\n",
    "* You can also use ``Shift-Enter`` to run and move to the next cell."
   ]
  },
  {
   "cell_type": "code",
   "execution_count": null,
   "metadata": {
    "collapsed": false,
    "deletable": true,
    "editable": true,
    "slideshow": {
     "slide_type": "-"
    }
   },
   "outputs": [],
   "source": [
    "x = 1 + 1\n",
    "10 * x"
   ]
  },
  {
   "cell_type": "markdown",
   "metadata": {
    "deletable": true,
    "editable": true,
    "slideshow": {
     "slide_type": "subslide"
    }
   },
   "source": [
    "Today's course has two parts:"
   ]
  },
  {
   "cell_type": "markdown",
   "metadata": {
    "deletable": true,
    "editable": true,
    "slideshow": {
     "slide_type": "fragment"
    }
   },
   "source": [
    "### Morning: the Python language\n",
    "\n",
    "* Why, what, how?\n",
    "* Basic data types and operations\n",
    "* Control flow"
   ]
  },
  {
   "cell_type": "markdown",
   "metadata": {
    "deletable": true,
    "editable": true,
    "slideshow": {
     "slide_type": "fragment"
    }
   },
   "source": [
    "### Afternoon: Python tools for scientists\n",
    "* ``NumPy``: working with large data grids\n",
    "* ``SciPy``: common numerical functions\n",
    "* ``matplotlib``: in-depth plotting library"
   ]
  },
  {
   "cell_type": "markdown",
   "metadata": {
    "collapsed": false,
    "deletable": true,
    "editable": true,
    "slideshow": {
     "slide_type": "fragment"
    }
   },
   "source": [
    "Plus advice, links to resources, exercises, ..."
   ]
  },
  {
   "cell_type": "markdown",
   "metadata": {
    "collapsed": false,
    "deletable": true,
    "editable": true,
    "slideshow": {
     "slide_type": "slide"
    }
   },
   "source": [
    "# What is Python?\n",
    "\n",
    "* Interpreted, object-oriented programming language\n",
    "* Works on PC, Mac and Linux\n",
    "* Open source: free (speech, lunch)"
   ]
  },
  {
   "cell_type": "markdown",
   "metadata": {
    "deletable": true,
    "editable": true,
    "slideshow": {
     "slide_type": "subslide"
    }
   },
   "source": [
    "## Why Python?\n",
    "\n",
    "* Neat and friendly syntax"
   ]
  },
  {
   "cell_type": "code",
   "execution_count": null,
   "metadata": {
    "collapsed": false,
    "deletable": true,
    "editable": true,
    "slideshow": {
     "slide_type": "-"
    }
   },
   "outputs": [],
   "source": [
    "print(\"Hello, world!\")"
   ]
  },
  {
   "cell_type": "markdown",
   "metadata": {
    "deletable": true,
    "editable": true,
    "slideshow": {
     "slide_type": "fragment"
    }
   },
   "source": [
    "* Newbie-friendly\n",
    "* Quick to write code and quick (enough) to run"
   ]
  },
  {
   "cell_type": "markdown",
   "metadata": {
    "collapsed": false,
    "deletable": true,
    "editable": true,
    "slideshow": {
     "slide_type": "subslide"
    }
   },
   "source": [
    "* 'Batteries included': [e.g. JSON data handling](data/top_250_imdb.json)"
   ]
  },
  {
   "cell_type": "code",
   "execution_count": null,
   "metadata": {
    "collapsed": false,
    "deletable": true,
    "editable": true,
    "slideshow": {
     "slide_type": "fragment"
    }
   },
   "outputs": [],
   "source": [
    "import json, random\n",
    "#Data obtained from http://www.imdb.com/interfaces\n",
    "with open(\"data/top_250_imdb.json\") as data_file:\n",
    "    films = json.load(data_file)"
   ]
  },
  {
   "cell_type": "code",
   "execution_count": null,
   "metadata": {
    "collapsed": false,
    "deletable": true,
    "editable": true,
    "slideshow": {
     "slide_type": "fragment"
    }
   },
   "outputs": [],
   "source": [
    "random.sample(films.items(), 3)"
   ]
  },
  {
   "cell_type": "code",
   "execution_count": null,
   "metadata": {
    "collapsed": false,
    "deletable": true,
    "editable": true,
    "slideshow": {
     "slide_type": "fragment"
    }
   },
   "outputs": [],
   "source": [
    "from statistics import mean\n",
    "#This mean is just from the top 250!\n",
    "mean(films.values())"
   ]
  },
  {
   "cell_type": "code",
   "execution_count": null,
   "metadata": {
    "collapsed": false,
    "deletable": true,
    "editable": true,
    "slideshow": {
     "slide_type": "fragment"
    }
   },
   "outputs": [],
   "source": [
    "max(films.values())"
   ]
  },
  {
   "cell_type": "code",
   "execution_count": null,
   "metadata": {
    "collapsed": false,
    "deletable": true,
    "editable": true,
    "slideshow": {
     "slide_type": "-"
    }
   },
   "outputs": [],
   "source": [
    "print([name for name, score in films.items() if score == 9.2])"
   ]
  },
  {
   "cell_type": "markdown",
   "metadata": {
    "deletable": true,
    "editable": true,
    "slideshow": {
     "slide_type": "-"
    }
   },
   "source": [
    "More pros and cons discussed at the [SciPy tutorial](http://www.scipy-lectures.org/intro/intro.html#why-python)."
   ]
  },
  {
   "cell_type": "markdown",
   "metadata": {
    "deletable": true,
    "editable": true,
    "slideshow": {
     "slide_type": "subslide"
    }
   },
   "source": [
    "## What can Python do?\n",
    "\n",
    "* Work with large datasets (``Pandas`` dataframes and ``NumPy`` arrays)"
   ]
  },
  {
   "cell_type": "code",
   "execution_count": null,
   "metadata": {
    "collapsed": false,
    "deletable": true,
    "editable": true,
    "slideshow": {
     "slide_type": "-"
    }
   },
   "outputs": [],
   "source": [
    "import pandas #Data from Thomas Bland\n",
    "df = pandas.read_csv(\"data/soliton_collision.csv\", index_col=0)\n",
    "df.shape"
   ]
  },
  {
   "cell_type": "code",
   "execution_count": null,
   "metadata": {
    "collapsed": false,
    "deletable": true,
    "editable": true,
    "slideshow": {
     "slide_type": "fragment"
    }
   },
   "outputs": [],
   "source": [
    "df.head()"
   ]
  },
  {
   "cell_type": "markdown",
   "metadata": {
    "deletable": true,
    "editable": true,
    "slideshow": {
     "slide_type": "subslide"
    }
   },
   "source": [
    "* Data processing and visualisation (``matplotlib`` and ``MayaVi``)"
   ]
  },
  {
   "cell_type": "code",
   "execution_count": null,
   "metadata": {
    "collapsed": false,
    "deletable": true,
    "editable": true,
    "slideshow": {
     "slide_type": "-"
    }
   },
   "outputs": [],
   "source": [
    "subset = df[-7:7]\n",
    "\n",
    "import matplotlib.pyplot as plt\n",
    "plt.imshow(subset,                 #Like Matlab's pcolor()\n",
    "           aspect='auto',\n",
    "           extent=(0, 1000, -7, 7))\n",
    "\n",
    "colorbar = plt.colorbar()\n",
    "colorbar.ax.set_ylabel('Density $|\\psi|^2$', labelpad=20, rotation=270)\n",
    "\n",
    "plt.xlabel('time $t$')\n",
    "plt.ylabel('position $z$')\n",
    "plt.show()"
   ]
  },
  {
   "cell_type": "markdown",
   "metadata": {
    "deletable": true,
    "editable": true,
    "slideshow": {
     "slide_type": "subslide"
    }
   },
   "source": [
    "* General purpose programming language (e.g. Python runs websites)\n",
    "* Got a boring task to do? Automate it!"
   ]
  },
  {
   "cell_type": "markdown",
   "metadata": {
    "deletable": true,
    "editable": true,
    "slideshow": {
     "slide_type": "subslide"
    }
   },
   "source": [
    "## How do I get Python?\n",
    "Won't always have this notebook interface!\n",
    "\n",
    "* At home: use the [Anaconda distribution](https://www.continuum.io/downloads) or [vanilla Python](https://www.python.org/)\n",
    "* At uni: talk to your Computing officer."
   ]
  },
  {
   "cell_type": "markdown",
   "metadata": {
    "deletable": true,
    "editable": true,
    "slideshow": {
     "slide_type": "fragment"
    }
   },
   "source": [
    "### Python 2 or 3?\n",
    "* Unless you're using someone else's code, **use Python 3**.\n",
    "* Some blogs might tell you it's not supported by big packages but that's [not true any more](http://python3wos.appspot.com/)."
   ]
  },
  {
   "cell_type": "markdown",
   "metadata": {
    "deletable": true,
    "editable": true,
    "slideshow": {
     "slide_type": "subslide"
    }
   },
   "source": [
    "Can try an IDE e.g. [Spyder](https://github.com/spyder-ide/spyder)\n",
    "\n",
    "![Screenshot of Spyder from https://github.com/spyder-ide/spyder](media/spyder_screenshot.png)"
   ]
  },
  {
   "cell_type": "markdown",
   "metadata": {
    "deletable": true,
    "editable": true,
    "slideshow": {
     "slide_type": "slide"
    }
   },
   "source": [
    "## Numeric types\n",
    "### Integers: indexing or counting:"
   ]
  },
  {
   "cell_type": "code",
   "execution_count": null,
   "metadata": {
    "collapsed": false,
    "deletable": true,
    "editable": true,
    "slideshow": {
     "slide_type": "-"
    }
   },
   "outputs": [],
   "source": [
    "1 + 2"
   ]
  },
  {
   "cell_type": "code",
   "execution_count": null,
   "metadata": {
    "collapsed": false,
    "deletable": true,
    "editable": true,
    "slideshow": {
     "slide_type": "-"
    }
   },
   "outputs": [],
   "source": [
    "300 - 456"
   ]
  },
  {
   "cell_type": "markdown",
   "metadata": {
    "deletable": true,
    "editable": true,
    "slideshow": {
     "slide_type": "fragment"
    }
   },
   "source": [
    "### Floats: measuring continuous things."
   ]
  },
  {
   "cell_type": "code",
   "execution_count": null,
   "metadata": {
    "collapsed": false,
    "deletable": true,
    "editable": true
   },
   "outputs": [],
   "source": [
    "0.1 + 0.2    #limited precision"
   ]
  },
  {
   "cell_type": "code",
   "execution_count": null,
   "metadata": {
    "collapsed": false,
    "deletable": true,
    "editable": true
   },
   "outputs": [],
   "source": [
    "0.5 - 0.3"
   ]
  },
  {
   "cell_type": "markdown",
   "metadata": {
    "deletable": true,
    "editable": true
   },
   "source": [
    "### Different data types for different jobs"
   ]
  },
  {
   "cell_type": "markdown",
   "metadata": {
    "deletable": true,
    "editable": true,
    "slideshow": {
     "slide_type": "subslide"
    }
   },
   "source": [
    "### Python's numbers are friendly"
   ]
  },
  {
   "cell_type": "code",
   "execution_count": null,
   "metadata": {
    "collapsed": false,
    "deletable": true,
    "editable": true
   },
   "outputs": [],
   "source": [
    "-2 ** 1000            # No problems with sign or under/overflow"
   ]
  },
  {
   "cell_type": "code",
   "execution_count": null,
   "metadata": {
    "collapsed": false,
    "deletable": true,
    "editable": true
   },
   "outputs": [],
   "source": [
    "type(-2 ** 1000)"
   ]
  },
  {
   "cell_type": "code",
   "execution_count": null,
   "metadata": {
    "collapsed": false,
    "deletable": true,
    "editable": true,
    "slideshow": {
     "slide_type": "fragment"
    }
   },
   "outputs": [],
   "source": [
    "1 + 1.5              # Mix int and float: result is float"
   ]
  },
  {
   "cell_type": "code",
   "execution_count": null,
   "metadata": {
    "collapsed": false,
    "deletable": true,
    "editable": true
   },
   "outputs": [],
   "source": [
    "type(12 + 24.0)      #Can check types explicitly"
   ]
  },
  {
   "cell_type": "markdown",
   "metadata": {
    "deletable": true,
    "editable": true
   },
   "source": [
    "### Golden rule: if one part of an expression is a float, the entire expression will be a float"
   ]
  },
  {
   "cell_type": "markdown",
   "metadata": {
    "deletable": true,
    "editable": true,
    "slideshow": {
     "slide_type": "subslide"
    }
   },
   "source": [
    "#### Other operations"
   ]
  },
  {
   "cell_type": "code",
   "execution_count": null,
   "metadata": {
    "collapsed": false,
    "deletable": true,
    "editable": true
   },
   "outputs": [],
   "source": [
    "23 - 7.0"
   ]
  },
  {
   "cell_type": "code",
   "execution_count": null,
   "metadata": {
    "collapsed": false,
    "deletable": true,
    "editable": true
   },
   "outputs": [],
   "source": [
    "2 * 4"
   ]
  },
  {
   "cell_type": "code",
   "execution_count": null,
   "metadata": {
    "collapsed": false,
    "deletable": true,
    "editable": true
   },
   "outputs": [],
   "source": [
    "3 / 2               # division always returns a float in Python 3"
   ]
  },
  {
   "cell_type": "code",
   "execution_count": null,
   "metadata": {
    "collapsed": false,
    "deletable": true,
    "editable": true,
    "slideshow": {
     "slide_type": "fragment"
    }
   },
   "outputs": [],
   "source": [
    "3 // 2              # double-slashes force integer division"
   ]
  },
  {
   "cell_type": "code",
   "execution_count": null,
   "metadata": {
    "collapsed": false,
    "deletable": true,
    "editable": true
   },
   "outputs": [],
   "source": [
    "2 ** 3.0"
   ]
  },
  {
   "cell_type": "code",
   "execution_count": null,
   "metadata": {
    "collapsed": false,
    "deletable": true,
    "editable": true
   },
   "outputs": [],
   "source": [
    "2 ^ 6               #Bitwise or -- not very useful for scientists"
   ]
  },
  {
   "cell_type": "markdown",
   "metadata": {
    "deletable": true,
    "editable": true,
    "slideshow": {
     "slide_type": "subslide"
    }
   },
   "source": [
    "#### Even more operations"
   ]
  },
  {
   "cell_type": "code",
   "execution_count": null,
   "metadata": {
    "collapsed": false,
    "deletable": true,
    "editable": true,
    "slideshow": {
     "slide_type": "-"
    }
   },
   "outputs": [],
   "source": [
    "(1 + 2) * (3 + 4)   #Brackets work as normal"
   ]
  },
  {
   "cell_type": "code",
   "execution_count": null,
   "metadata": {
    "collapsed": false,
    "deletable": true,
    "editable": true
   },
   "outputs": [],
   "source": [
    "3 - 2*4             #Order of operations (BODMAS) as normal"
   ]
  },
  {
   "cell_type": "code",
   "execution_count": null,
   "metadata": {
    "collapsed": false,
    "deletable": true,
    "editable": true
   },
   "outputs": [],
   "source": [
    "27 % 5              #Modulo (remainder) operation"
   ]
  },
  {
   "cell_type": "code",
   "execution_count": null,
   "metadata": {
    "collapsed": false,
    "deletable": true,
    "editable": true
   },
   "outputs": [],
   "source": [
    "abs(-2)             #Modulus (absolute value) function"
   ]
  },
  {
   "cell_type": "markdown",
   "metadata": {
    "collapsed": true,
    "deletable": true,
    "editable": true,
    "slideshow": {
     "slide_type": "subslide"
    }
   },
   "source": [
    "### Advice for working with floats"
   ]
  },
  {
   "cell_type": "markdown",
   "metadata": {
    "deletable": true,
    "editable": true
   },
   "source": [
    "* Floats accumlate rounding errors\n",
    "* Testing equality is tricky (should use [``math.isclose``](https://docs.python.org/3/library/math.html#math.isclose))"
   ]
  },
  {
   "cell_type": "code",
   "execution_count": null,
   "metadata": {
    "collapsed": false,
    "deletable": true,
    "editable": true,
    "slideshow": {
     "slide_type": "fragment"
    }
   },
   "outputs": [],
   "source": [
    "x = 0.1 + 0.2\n",
    "y = 0.15 + 0.15\n",
    "print(\"%.20f\\n%.20f\" % (x, y))\n",
    "from math import isclose\n",
    "isclose(x, y)"
   ]
  },
  {
   "cell_type": "markdown",
   "metadata": {
    "deletable": true,
    "editable": true
   },
   "source": [
    "* See [Floating point guide](http://floating-point-gui.de/errors/comparison/) or [What every computer scientist should know about floating-point arithmetic](https://doi.org/10.1145/103162.103163)"
   ]
  },
  {
   "cell_type": "markdown",
   "metadata": {
    "deletable": true,
    "editable": true,
    "slideshow": {
     "slide_type": "subslide"
    }
   },
   "source": [
    "### ``complex`` type\n",
    "* Python uses ``j`` for the imaginary unit $i$.\n",
    "* Has to have a number before it, to distinguish from a variable called ``j``."
   ]
  },
  {
   "cell_type": "code",
   "execution_count": null,
   "metadata": {
    "collapsed": false,
    "deletable": true,
    "editable": true
   },
   "outputs": [],
   "source": [
    "1j * 1j"
   ]
  },
  {
   "cell_type": "code",
   "execution_count": null,
   "metadata": {
    "collapsed": false,
    "deletable": true,
    "editable": true
   },
   "outputs": [],
   "source": [
    "z = 2 - 4j\n",
    "z + z.conjugate()  # Twice the real part"
   ]
  },
  {
   "cell_type": "markdown",
   "metadata": {
    "deletable": true,
    "editable": true,
    "slideshow": {
     "slide_type": "fragment"
    }
   },
   "source": [
    "* use ``cmath`` functions when working with  complex numbers."
   ]
  },
  {
   "cell_type": "code",
   "execution_count": null,
   "metadata": {
    "collapsed": false,
    "deletable": true,
    "editable": true
   },
   "outputs": [],
   "source": [
    "import cmath\n",
    "cmath.sin(0.1 + 2j)"
   ]
  },
  {
   "cell_type": "code",
   "execution_count": null,
   "metadata": {
    "collapsed": false,
    "deletable": true,
    "editable": true
   },
   "outputs": [],
   "source": [
    "abs(cmath.exp(2j))     "
   ]
  },
  {
   "cell_type": "markdown",
   "metadata": {
    "deletable": true,
    "editable": true,
    "slideshow": {
     "slide_type": "subslide"
    }
   },
   "source": [
    "## Exercises\n",
    "What are the types and values of the following expressions? Try to work it out by hand; then check in the notebook."
   ]
  },
  {
   "cell_type": "markdown",
   "metadata": {
    "deletable": true,
    "editable": true,
    "slideshow": {
     "slide_type": "-"
    }
   },
   "source": [
    "* ``23 + 2 * 17 - 9``\n",
    "* ``23 + 2 * (17 - 9.0)``\n",
    "* ``5 * 6 / 7``\n",
    "* ``5 * 6 // 7``\n",
    "* ``5 * 6.0 // 7``\n",
    "\n",
    "\n",
    "* ``2.0 ** (3 + 7 % 3) // 2``\n",
    "* ``2 ** (3 + 7 % 3) / 2``\n",
    "* ``4 ** 0.5``\n",
    "* ``-4 ** 0.5``\n",
    "* ``(1 + 1/1000) ** 1000``"
   ]
  },
  {
   "cell_type": "markdown",
   "metadata": {
    "deletable": true,
    "editable": true,
    "slideshow": {
     "slide_type": "fragment"
    }
   },
   "source": [
    "* int: ``48``\n",
    "* float: ``39.0``\n",
    "* float: ``30/7 == 4.28571...6``\n",
    "* int: ``30 // 7 == 4``\n",
    "* float: ``30.0 // 7 == 4.0``\n",
    "\n",
    "\n",
    "* float: ``8.0``\n",
    "* float: ``8.0`` \n",
    "* float: ``2.0``\n",
    "* float: ``-2.0``\n",
    "* float: ``2.71692...`` $\\approx e$"
   ]
  },
  {
   "cell_type": "markdown",
   "metadata": {
    "deletable": true,
    "editable": true,
    "slideshow": {
     "slide_type": "slide"
    }
   },
   "source": [
    "## Control flow: variables"
   ]
  },
  {
   "cell_type": "markdown",
   "metadata": {
    "deletable": true,
    "editable": true,
    "slideshow": {
     "slide_type": "fragment"
    }
   },
   "source": [
    "Variables are names which refer to values."
   ]
  },
  {
   "cell_type": "code",
   "execution_count": null,
   "metadata": {
    "collapsed": false,
    "deletable": true,
    "editable": true
   },
   "outputs": [],
   "source": [
    "x = 10\n",
    "2 * x + 4"
   ]
  },
  {
   "cell_type": "code",
   "execution_count": null,
   "metadata": {
    "collapsed": false,
    "deletable": true,
    "editable": true
   },
   "outputs": [],
   "source": [
    "#Prefer descriptive names over shorthand\n",
    "import math\n",
    "planck = 6.63e-36\n",
    "red_planck = planck / (2 * math.pi)\n",
    "red_planck"
   ]
  },
  {
   "cell_type": "code",
   "execution_count": null,
   "metadata": {
    "collapsed": false,
    "deletable": true,
    "editable": true,
    "slideshow": {
     "slide_type": "fragment"
    }
   },
   "outputs": [],
   "source": [
    "name = 'Dr. John Smith' #not just numbers: more data types later\n",
    "len(name)"
   ]
  },
  {
   "cell_type": "code",
   "execution_count": null,
   "metadata": {
    "collapsed": true,
    "deletable": true,
    "editable": true
   },
   "outputs": [],
   "source": [
    "thing1 = 3.142   #numbers okay in variable names\n",
    "thing2 = 1.618"
   ]
  },
  {
   "cell_type": "code",
   "execution_count": null,
   "metadata": {
    "collapsed": false,
    "deletable": true,
    "editable": true,
    "slideshow": {
     "slide_type": "subslide"
    }
   },
   "outputs": [],
   "source": [
    "3rdthing = 2.718 #except at the start"
   ]
  },
  {
   "cell_type": "markdown",
   "metadata": {
    "deletable": true,
    "editable": true,
    "slideshow": {
     "slide_type": "fragment"
    }
   },
   "source": [
    "Some [keywords are forbidden](https://docs.python.org/3.6/reference/lexical_analysis.html#keywords)."
   ]
  },
  {
   "cell_type": "code",
   "execution_count": null,
   "metadata": {
    "collapsed": false,
    "deletable": true,
    "editable": true
   },
   "outputs": [],
   "source": [
    "del = 'boy'"
   ]
  },
  {
   "cell_type": "markdown",
   "metadata": {
    "deletable": true,
    "editable": true,
    "slideshow": {
     "slide_type": "subslide"
    }
   },
   "source": [
    "To *compare* variables and/or values, use two equals signs `==`. More on this later."
   ]
  },
  {
   "cell_type": "code",
   "execution_count": null,
   "metadata": {
    "collapsed": false,
    "deletable": true,
    "editable": true
   },
   "outputs": [],
   "source": [
    "t = 2"
   ]
  },
  {
   "cell_type": "code",
   "execution_count": null,
   "metadata": {
    "collapsed": false,
    "deletable": true,
    "editable": true
   },
   "outputs": [],
   "source": [
    "t + t = 4"
   ]
  },
  {
   "cell_type": "code",
   "execution_count": null,
   "metadata": {
    "collapsed": false,
    "deletable": true,
    "editable": true
   },
   "outputs": [],
   "source": [
    "t + t == 4"
   ]
  },
  {
   "cell_type": "markdown",
   "metadata": {
    "deletable": true,
    "editable": true,
    "slideshow": {
     "slide_type": "subslide"
    }
   },
   "source": [
    "### Quick quiz: what happens here?"
   ]
  },
  {
   "cell_type": "code",
   "execution_count": null,
   "metadata": {
    "collapsed": true,
    "deletable": true,
    "editable": true
   },
   "outputs": [],
   "source": [
    "x = 1\n",
    "y = x\n",
    "x = x * 5"
   ]
  },
  {
   "cell_type": "markdown",
   "metadata": {
    "deletable": true,
    "editable": true
   },
   "source": [
    "What's $y$ equal to: $1$ or $5$?"
   ]
  },
  {
   "cell_type": "code",
   "execution_count": null,
   "metadata": {
    "collapsed": false,
    "deletable": true,
    "editable": true,
    "slideshow": {
     "slide_type": "fragment"
    }
   },
   "outputs": [],
   "source": [
    "y"
   ]
  },
  {
   "cell_type": "markdown",
   "metadata": {
    "deletable": true,
    "editable": true
   },
   "source": [
    "When we say ``y = x``, we mean\n",
    "* Make ``y`` refer to whatever ``x`` refers to\n",
    "\n",
    "and not\n",
    "* Make ``y`` refer to ``x``\n",
    "\n",
    "If in doubt: try experimenting!"
   ]
  },
  {
   "cell_type": "markdown",
   "metadata": {
    "deletable": true,
    "editable": true,
    "slideshow": {
     "slide_type": "slide"
    }
   },
   "source": [
    "### Control flow: functions\n",
    "\n",
    "* Packages and the standard library have many useful functions\n",
    "* Still useful to write your own: reuse code, break program into smaller problems"
   ]
  },
  {
   "cell_type": "code",
   "execution_count": null,
   "metadata": {
    "collapsed": true,
    "deletable": true,
    "editable": true,
    "slideshow": {
     "slide_type": "fragment"
    }
   },
   "outputs": [],
   "source": [
    "def discriminant(a, b, c):\n",
    "    print(\"a =\", a, \"b =\", b, \"c =\", c)\n",
    "    return b ** 2 - 4 * a * c"
   ]
  },
  {
   "cell_type": "markdown",
   "metadata": {
    "deletable": true,
    "editable": true,
    "slideshow": {
     "slide_type": "fragment"
    }
   },
   "source": [
    "* ``def`` keyword (define)\n",
    "* function name (same rules as variables)\n",
    "* argument list\n",
    "* **colon** to mark indentation\n",
    "* statements: **indented with four spaces**\n",
    "* ``return`` expression"
   ]
  },
  {
   "cell_type": "code",
   "execution_count": null,
   "metadata": {
    "collapsed": false,
    "deletable": true,
    "editable": true,
    "slideshow": {
     "slide_type": "fragment"
    }
   },
   "outputs": [],
   "source": [
    "discriminant(2, 3, 4)       #Give arguments values by position..."
   ]
  },
  {
   "cell_type": "code",
   "execution_count": null,
   "metadata": {
    "collapsed": false,
    "deletable": true,
    "editable": true,
    "slideshow": {
     "slide_type": "fragment"
    }
   },
   "outputs": [],
   "source": [
    "discriminant(b=3, c=4, a=2) #...or explicitly by name"
   ]
  },
  {
   "cell_type": "markdown",
   "metadata": {
    "deletable": true,
    "editable": true,
    "slideshow": {
     "slide_type": "subslide"
    }
   },
   "source": [
    "Python will complain if you don't give a function the right arguments."
   ]
  },
  {
   "cell_type": "code",
   "execution_count": null,
   "metadata": {
    "collapsed": false,
    "deletable": true,
    "editable": true
   },
   "outputs": [],
   "source": [
    "discriminant()"
   ]
  },
  {
   "cell_type": "code",
   "execution_count": null,
   "metadata": {
    "collapsed": false,
    "deletable": true,
    "editable": true,
    "slideshow": {
     "slide_type": "fragment"
    }
   },
   "outputs": [],
   "source": [
    "discriminant(0, 0)"
   ]
  },
  {
   "cell_type": "code",
   "execution_count": null,
   "metadata": {
    "collapsed": false,
    "deletable": true,
    "editable": true,
    "slideshow": {
     "slide_type": "fragment"
    }
   },
   "outputs": [],
   "source": [
    "discriminant(a=1, a=2, a=3)"
   ]
  },
  {
   "cell_type": "markdown",
   "metadata": {
    "deletable": true,
    "editable": true,
    "slideshow": {
     "slide_type": "subslide"
    }
   },
   "source": [
    "Arguments can be made *optional* by giving them default values."
   ]
  },
  {
   "cell_type": "code",
   "execution_count": null,
   "metadata": {
    "collapsed": false,
    "deletable": true,
    "editable": true
   },
   "outputs": [],
   "source": [
    "def greet(greeting='Hello', name='stranger'):\n",
    "    print(greeting, 'to you,', name)"
   ]
  },
  {
   "cell_type": "code",
   "execution_count": null,
   "metadata": {
    "collapsed": false,
    "deletable": true,
    "editable": true,
    "slideshow": {
     "slide_type": "fragment"
    }
   },
   "outputs": [],
   "source": [
    "greet()"
   ]
  },
  {
   "cell_type": "code",
   "execution_count": null,
   "metadata": {
    "collapsed": false,
    "deletable": true,
    "editable": true,
    "slideshow": {
     "slide_type": "fragment"
    }
   },
   "outputs": [],
   "source": [
    "greet('David')"
   ]
  },
  {
   "cell_type": "code",
   "execution_count": null,
   "metadata": {
    "collapsed": false,
    "deletable": true,
    "editable": true,
    "slideshow": {
     "slide_type": "fragment"
    }
   },
   "outputs": [],
   "source": [
    "greet(name='David')"
   ]
  },
  {
   "cell_type": "markdown",
   "metadata": {
    "deletable": true,
    "editable": true,
    "slideshow": {
     "slide_type": "subslide"
    }
   },
   "source": [
    "Can return more than one value at once:"
   ]
  },
  {
   "cell_type": "code",
   "execution_count": null,
   "metadata": {
    "collapsed": true,
    "deletable": true,
    "editable": true
   },
   "outputs": [],
   "source": [
    "def consecutive_squares(n):\n",
    "    return n**2, (n + 1)**2"
   ]
  },
  {
   "cell_type": "code",
   "execution_count": null,
   "metadata": {
    "collapsed": false,
    "deletable": true,
    "editable": true
   },
   "outputs": [],
   "source": [
    "consecutive_squares(5)"
   ]
  },
  {
   "cell_type": "markdown",
   "metadata": {
    "deletable": true,
    "editable": true,
    "slideshow": {
     "slide_type": "fragment"
    }
   },
   "source": [
    "The function returns a ``tuple`` (more on these later).\n",
    "Can *unpack* to get at the individual values"
   ]
  },
  {
   "cell_type": "code",
   "execution_count": null,
   "metadata": {
    "collapsed": false,
    "deletable": true,
    "editable": true,
    "slideshow": {
     "slide_type": "-"
    }
   },
   "outputs": [],
   "source": [
    "a, b = consecutive_squares(10)\n",
    "a"
   ]
  },
  {
   "cell_type": "code",
   "execution_count": null,
   "metadata": {
    "collapsed": false,
    "deletable": true,
    "editable": true
   },
   "outputs": [],
   "source": [
    "b"
   ]
  },
  {
   "cell_type": "markdown",
   "metadata": {
    "deletable": true,
    "editable": true,
    "slideshow": {
     "slide_type": "subslide"
    }
   },
   "source": [
    "#### Variable scope: context matters"
   ]
  },
  {
   "cell_type": "code",
   "execution_count": null,
   "metadata": {
    "collapsed": true,
    "deletable": true,
    "editable": true
   },
   "outputs": [],
   "source": [
    "a = 3\n",
    "def double(a):\n",
    "    a = 2 * a\n",
    "    return a"
   ]
  },
  {
   "cell_type": "code",
   "execution_count": null,
   "metadata": {
    "collapsed": false,
    "deletable": true,
    "editable": true
   },
   "outputs": [],
   "source": [
    "double(6)"
   ]
  },
  {
   "cell_type": "markdown",
   "metadata": {
    "deletable": true,
    "editable": true,
    "slideshow": {
     "slide_type": "fragment"
    }
   },
   "source": [
    "Function arguments and variables defined in a function are *local* to the function body.\n",
    "\n",
    "If there's a name conflict, stuff outside is unaffected."
   ]
  },
  {
   "cell_type": "code",
   "execution_count": null,
   "metadata": {
    "collapsed": false,
    "deletable": true,
    "editable": true
   },
   "outputs": [],
   "source": [
    "a"
   ]
  },
  {
   "cell_type": "markdown",
   "metadata": {
    "deletable": true,
    "editable": true,
    "slideshow": {
     "slide_type": "fragment"
    }
   },
   "source": [
    "[See the Python tutorial](https://docs.python.org/3/tutorial/controlflow.html#more-on-defining-functions) for more tips, tricks and examples---including functions that take a *variable number of arguments*."
   ]
  },
  {
   "cell_type": "markdown",
   "metadata": {
    "deletable": true,
    "editable": true,
    "slideshow": {
     "slide_type": "subslide"
    }
   },
   "source": [
    "### Cheeky challenge\n",
    "\n",
    "Write a function implements the quadratic formula.\n",
    "* Arguments: three numbers $a$, $b$, and $c$\n",
    "* Return **both** solutions to $ax^2 + bx + c = 0$\n",
    "* Return the smaller one first\n",
    "\n",
    "Reminder: the quadratic formula is $$x = \\frac {-b \\pm \\sqrt{b^2 - 4ac}} {2a}$$\n",
    "\n",
    "* Use ``math.sqrt`` for computing square roots. Don't forget to ``import``!"
   ]
  },
  {
   "cell_type": "code",
   "execution_count": null,
   "metadata": {
    "collapsed": false,
    "deletable": true,
    "editable": true
   },
   "outputs": [],
   "source": [
    "#Here's a template for your function.\n",
    "def quadratic_roots( ... )\n",
    "    #your statements here\n",
    "    ...\n",
    "    return ..."
   ]
  },
  {
   "cell_type": "markdown",
   "metadata": {
    "deletable": true,
    "editable": true,
    "slideshow": {
     "slide_type": "subslide"
    }
   },
   "source": [
    "Let's do a few tests.\n",
    "* $(x-4)(x+2) = x^2 + 2x - 8$ has roots $x=4, x=-2$.\n",
    "* $2(x-10)^2 = 2x^2 -40x + 400$ has a repeated root $x=10$."
   ]
  },
  {
   "cell_type": "code",
   "execution_count": null,
   "metadata": {
    "collapsed": false,
    "deletable": true,
    "editable": true
   },
   "outputs": [],
   "source": [
    "print( quadratic_roots(1, 2, -8) )\n",
    "#assert statements will error if the condition is False.\n",
    "assert quadratic_roots(1, 2, -8) == (-2, 4)\n",
    "assert quadratic_roots(2, -40, 400) == (10, 10)"
   ]
  },
  {
   "cell_type": "markdown",
   "metadata": {
    "deletable": true,
    "editable": true,
    "slideshow": {
     "slide_type": "slide"
    }
   },
   "source": [
    "### Control flow: loops\n",
    "\n",
    "Basic looping has two important parts:\n",
    "* ``for variable in ...:``\n",
    "* ``range`` function"
   ]
  },
  {
   "cell_type": "code",
   "execution_count": null,
   "metadata": {
    "collapsed": false,
    "deletable": true,
    "editable": true
   },
   "outputs": [],
   "source": [
    "for i in range(5):\n",
    "    print(\"Hello!\")"
   ]
  },
  {
   "cell_type": "markdown",
   "metadata": {
    "deletable": true,
    "editable": true
   },
   "source": [
    "* loop body indented with four spaces (like functions)\n",
    "* **colon** to denote indentation "
   ]
  },
  {
   "cell_type": "markdown",
   "metadata": {
    "deletable": true,
    "editable": true,
    "slideshow": {
     "slide_type": "subslide"
    }
   },
   "source": [
    "#### Python's indexing convention\n",
    "Something of length $N$ uses indices from $0$ to $N-1$ inclusive."
   ]
  },
  {
   "cell_type": "code",
   "execution_count": null,
   "metadata": {
    "collapsed": false,
    "deletable": true,
    "editable": true
   },
   "outputs": [],
   "source": [
    "for i in range(5):\n",
    "    print(\"Here's a number:\")\n",
    "    print(i)"
   ]
  },
  {
   "cell_type": "markdown",
   "metadata": {
    "deletable": true,
    "editable": true,
    "slideshow": {
     "slide_type": "fragment"
    }
   },
   "source": [
    "* unlike Matlab, Fortran or R (where indexing starts from 1).\n",
    "* like C, C++, Java, Javascript\n",
    "\n",
    "\n",
    "* [EWD831](https://www.cs.utexas.edu/users/EWD/ewd08xx/EWD831.PDF) discusses different indexing systems\n",
    "* [Wikipedia](https://en.wikipedia.org/wiki/Comparison_of_programming_languages_%28array%29#Array_system_cross-reference_list) compares across languages.\n"
   ]
  },
  {
   "cell_type": "markdown",
   "metadata": {
    "deletable": true,
    "editable": true,
    "slideshow": {
     "slide_type": "subslide"
    }
   },
   "source": [
    "#### Controlling integer ranges\n",
    "\n",
    "The most general form of the [``range``](https://docs.python.org/3/library/stdtypes.html#range) function is\n",
    "\n",
    "``range(start, stop, step)``\n",
    "\n",
    "Where ``step`` has default value of ``1`` when it's missing."
   ]
  },
  {
   "cell_type": "code",
   "execution_count": null,
   "metadata": {
    "collapsed": false,
    "deletable": true,
    "editable": true
   },
   "outputs": [],
   "source": [
    "for i in range(5, 10):\n",
    "    print(i)"
   ]
  },
  {
   "cell_type": "code",
   "execution_count": null,
   "metadata": {
    "collapsed": false,
    "deletable": true,
    "editable": true,
    "slideshow": {
     "slide_type": "fragment"
    }
   },
   "outputs": [],
   "source": [
    "for i in range(10, 20, 2):\n",
    "    print(i)"
   ]
  },
  {
   "cell_type": "markdown",
   "metadata": {
    "deletable": true,
    "editable": true,
    "slideshow": {
     "slide_type": "subslide"
    }
   },
   "source": [
    "Python assumes that start ≤ stop."
   ]
  },
  {
   "cell_type": "code",
   "execution_count": null,
   "metadata": {
    "collapsed": true,
    "deletable": true,
    "editable": true
   },
   "outputs": [],
   "source": [
    "for thing in range(50, 40): #can use any loop variable\n",
    "    print(thing)"
   ]
  },
  {
   "cell_type": "markdown",
   "metadata": {
    "deletable": true,
    "editable": true,
    "slideshow": {
     "slide_type": "fragment"
    }
   },
   "source": [
    "If you want a descending loop you need a negative step."
   ]
  },
  {
   "cell_type": "code",
   "execution_count": null,
   "metadata": {
    "collapsed": false,
    "deletable": true,
    "editable": true
   },
   "outputs": [],
   "source": [
    "for thing in range(50, 40, -3):\n",
    "    print(thing)"
   ]
  },
  {
   "cell_type": "markdown",
   "metadata": {
    "deletable": true,
    "editable": true,
    "slideshow": {
     "slide_type": "subslide"
    }
   },
   "source": [
    "### Cheeky challenge\n",
    "\n",
    "Use a loop to compute\n",
    "$$5^2 + 10^2 + 15^2 + 20^2 + \\dotsb + 200^2$$"
   ]
  },
  {
   "cell_type": "code",
   "execution_count": null,
   "metadata": {
    "collapsed": false,
    "deletable": true,
    "editable": true,
    "slideshow": {
     "slide_type": "fragment"
    }
   },
   "outputs": [],
   "source": [
    "#Again here's a template for you\n",
    "total = 0\n",
    "for ... in ...:\n",
    "    total = total + ...\n",
    "total"
   ]
  },
  {
   "cell_type": "code",
   "execution_count": null,
   "metadata": {
    "collapsed": false,
    "deletable": true,
    "editable": true,
    "slideshow": {
     "slide_type": "fragment"
    }
   },
   "outputs": [],
   "source": [
    "#Here's the answer you should have got:\n",
    "assert total == 553500"
   ]
  },
  {
   "cell_type": "markdown",
   "metadata": {
    "deletable": true,
    "editable": true,
    "slideshow": {
     "slide_type": "subslide"
    }
   },
   "source": [
    "We'll see later that we can loop over all sorts of objects---not just ``range``s."
   ]
  },
  {
   "cell_type": "code",
   "execution_count": null,
   "metadata": {
    "collapsed": false,
    "deletable": true,
    "editable": true,
    "slideshow": {
     "slide_type": "-"
    }
   },
   "outputs": [],
   "source": [
    "for character in \"David Matthew Robertson\":\n",
    "    print(character, end=\".\")"
   ]
  },
  {
   "cell_type": "markdown",
   "metadata": {
    "deletable": true,
    "editable": true,
    "slideshow": {
     "slide_type": "fragment"
    }
   },
   "source": [
    "This makes looping a really powerful tool in Python.\n",
    "It enables\n",
    "\n",
    "* Shortcuts like the [``enumerate`` function](https://docs.python.org/3.6/library/functions.html#enumerate)\n",
    "* [Generator expressions and generator functions](http://www.dabeaz.com/generators/)\n",
    "* [List](https://docs.python.org/3.6/tutorial/datastructures.html#list-comprehensions)/Set/Dictionary comprehensions\n",
    "* [Efficient looping](https://docs.python.org/3/library/itertools.html) techniques\n",
    "\n",
    "Just like other languages, there are [``while`` loops](https://docs.python.org/3/reference/compound_stmts.html#the-while-statement) and [``break`` and ``continue`` statements](https://docs.python.org/3.4/tutorial/controlflow.html#break-and-continue-statements-and-else-clauses-on-loops) which are a bit less intuitive.\n",
    "\n",
    "There's too much to go over here---but there are links in the notebook if you're curious."
   ]
  },
  {
   "cell_type": "markdown",
   "metadata": {
    "deletable": true,
    "editable": true,
    "slideshow": {
     "slide_type": "slide"
    }
   },
   "source": [
    "### Control flow: conditionals\n",
    "\n",
    "A very important tool in the programmer's toolkit is the ability to do different things in different circumstances.\n",
    "\n",
    "Enter the **``if`` statement**:"
   ]
  },
  {
   "cell_type": "code",
   "execution_count": null,
   "metadata": {
    "collapsed": false,
    "deletable": true,
    "editable": true
   },
   "outputs": [],
   "source": [
    "i = 10\n",
    "if i % 2 == 0:\n",
    "    print(i, \"is even\")"
   ]
  },
  {
   "cell_type": "markdown",
   "metadata": {
    "deletable": true,
    "editable": true,
    "slideshow": {
     "slide_type": "-"
    }
   },
   "source": [
    "* *Colon*, then four spaces before body statements"
   ]
  },
  {
   "cell_type": "markdown",
   "metadata": {
    "deletable": true,
    "editable": true,
    "slideshow": {
     "slide_type": "subslide"
    }
   },
   "source": [
    "* Main expression usually a boolean: ``True`` or ``False``\n",
    "* Use comparisons like ``<``, ``<=``, ``==``, ``!=``, ``>=``, ``>`` to make booleans"
   ]
  },
  {
   "cell_type": "code",
   "execution_count": null,
   "metadata": {
    "collapsed": false,
    "deletable": true,
    "editable": true
   },
   "outputs": [],
   "source": [
    "1 < 2    #less than"
   ]
  },
  {
   "cell_type": "code",
   "execution_count": null,
   "metadata": {
    "collapsed": false,
    "deletable": true,
    "editable": true
   },
   "outputs": [],
   "source": [
    "2 <= 0.2   #less than or equal"
   ]
  },
  {
   "cell_type": "code",
   "execution_count": null,
   "metadata": {
    "collapsed": false,
    "deletable": true,
    "editable": true,
    "slideshow": {
     "slide_type": "fragment"
    }
   },
   "outputs": [],
   "source": [
    "3 == 3.0   #equal"
   ]
  },
  {
   "cell_type": "code",
   "execution_count": null,
   "metadata": {
    "collapsed": false,
    "deletable": true,
    "editable": true
   },
   "outputs": [],
   "source": [
    "\"cat\" != \"dog\" #not equal"
   ]
  },
  {
   "cell_type": "code",
   "execution_count": null,
   "metadata": {
    "collapsed": false,
    "deletable": true,
    "editable": true,
    "slideshow": {
     "slide_type": "fragment"
    }
   },
   "outputs": [],
   "source": [
    "x = 10\n",
    "1 < x < 15 #Mathematical notation for \"(1 < x) and (x < 15)\""
   ]
  },
  {
   "cell_type": "markdown",
   "metadata": {
    "deletable": true,
    "editable": true,
    "slideshow": {
     "slide_type": "subslide"
    }
   },
   "source": [
    "Let's take our previous if statement and put it in a loop.\n",
    "\n",
    "Whenever we start a **new block** (line ending in a colon), we have to indent an extra four spaces."
   ]
  },
  {
   "cell_type": "code",
   "execution_count": null,
   "metadata": {
    "collapsed": false,
    "deletable": true,
    "editable": true
   },
   "outputs": [],
   "source": [
    "for i in range(5):\n",
    "    if i % 2 == 0:\n",
    "        print(i, \"is even\")"
   ]
  },
  {
   "cell_type": "markdown",
   "metadata": {
    "deletable": true,
    "editable": true,
    "slideshow": {
     "slide_type": "fragment"
    }
   },
   "source": [
    "We can handle the ``False`` case with an ``else`` statement."
   ]
  },
  {
   "cell_type": "code",
   "execution_count": null,
   "metadata": {
    "collapsed": false,
    "deletable": true,
    "editable": true
   },
   "outputs": [],
   "source": [
    "for i in range(5):\n",
    "    if i % 2 == 0:\n",
    "        print(i, \"is even\")\n",
    "    else:\n",
    "        print(i, \"is odd\")"
   ]
  },
  {
   "cell_type": "markdown",
   "metadata": {
    "deletable": true,
    "editable": true,
    "slideshow": {
     "slide_type": "subslide"
    }
   },
   "source": [
    "For finer control, use an ``if... elif... else...`` chain.\n",
    "\n",
    "Here **``elif``** is short for \"else if\"."
   ]
  },
  {
   "cell_type": "code",
   "execution_count": null,
   "metadata": {
    "collapsed": false,
    "deletable": true,
    "editable": true
   },
   "outputs": [],
   "source": [
    "import datetime\n",
    "now = datetime.datetime.now()\n",
    "print(\"The time is\", now, \"and the hour is:\", now.hour)\n",
    "if 6 <= now.hour < 12:\n",
    "    print(\"Good morning!\")\n",
    "elif now.hour < 18:\n",
    "    print(\"Good afternoon!\")\n",
    "elif now.hour < 20:\n",
    "    print(\"Good evening!\")\n",
    "else:\n",
    "    print(\"Good night!\")"
   ]
  },
  {
   "cell_type": "markdown",
   "metadata": {
    "deletable": true,
    "editable": true,
    "slideshow": {
     "slide_type": "fragment"
    }
   },
   "source": [
    "* ``else`` is optional and always comes last.\n",
    "* Need to have ``if`` before any ``elif``s.\n",
    "* Can have as many ``elif``s as you like."
   ]
  },
  {
   "cell_type": "markdown",
   "metadata": {
    "deletable": true,
    "editable": true,
    "slideshow": {
     "slide_type": "subslide"
    }
   },
   "source": [
    "### Cheeky challenge\n",
    "\n",
    "The *sign* or *signum* function is defined by\n",
    "$$\\operatorname{sign}(x) = \\begin{cases}\n",
    "     \\phantom{-}1 & \\text{if $x>0$} \\\\\n",
    "     \\phantom{-}0 & \\text{if $x=0$} \\\\\n",
    "    -1 & \\text{if $x<0$}\n",
    "\\end{cases}$$\n",
    "\n",
    "Implement this as a Python function."
   ]
  },
  {
   "cell_type": "code",
   "execution_count": null,
   "metadata": {
    "collapsed": true,
    "deletable": true,
    "editable": true
   },
   "outputs": [],
   "source": [
    "#More template space for you\n",
    "def sign(x):\n",
    "    ..."
   ]
  },
  {
   "cell_type": "code",
   "execution_count": null,
   "metadata": {
    "collapsed": false,
    "deletable": true,
    "editable": true,
    "slideshow": {
     "slide_type": "fragment"
    }
   },
   "outputs": [],
   "source": [
    "#And some tests:\n",
    "assert sign(10) == 1\n",
    "assert sign(0) == 0\n",
    "assert sign(-23.4) == -1"
   ]
  },
  {
   "cell_type": "markdown",
   "metadata": {
    "deletable": true,
    "editable": true,
    "slideshow": {
     "slide_type": "subslide"
    }
   },
   "source": [
    "* Quick mention: can perform logical operations on booleans with **``and``**, **``or``**, and **``not``**."
   ]
  },
  {
   "cell_type": "code",
   "execution_count": null,
   "metadata": {
    "collapsed": false,
    "deletable": true,
    "editable": true
   },
   "outputs": [],
   "source": [
    "True and False"
   ]
  },
  {
   "cell_type": "code",
   "execution_count": null,
   "metadata": {
    "collapsed": false,
    "deletable": true,
    "editable": true
   },
   "outputs": [],
   "source": [
    "True or False"
   ]
  },
  {
   "cell_type": "code",
   "execution_count": null,
   "metadata": {
    "collapsed": false,
    "deletable": true,
    "editable": true
   },
   "outputs": [],
   "source": [
    "not False"
   ]
  },
  {
   "cell_type": "code",
   "execution_count": null,
   "metadata": {
    "collapsed": false,
    "deletable": true,
    "editable": true,
    "slideshow": {
     "slide_type": "fragment"
    }
   },
   "outputs": [],
   "source": [
    "not False and False    #careful with order of operations"
   ]
  },
  {
   "cell_type": "code",
   "execution_count": null,
   "metadata": {
    "collapsed": false,
    "deletable": true,
    "editable": true
   },
   "outputs": [],
   "source": [
    "not (False and False)"
   ]
  },
  {
   "cell_type": "markdown",
   "metadata": {
    "deletable": true,
    "editable": true,
    "slideshow": {
     "slide_type": "slide"
    }
   },
   "source": [
    "## Data types: strings\n",
    "\n",
    "* Any textual data: plot labels, file names, ...\n",
    "* Enclosed by single (``'``) or double quotes (``\"``)\n",
    "* Any [Unicode](https://en.wikipedia.org/wiki/Unicode) character okay"
   ]
  },
  {
   "cell_type": "code",
   "execution_count": null,
   "metadata": {
    "collapsed": true,
    "deletable": true,
    "editable": true
   },
   "outputs": [],
   "source": [
    "supercal = \"Supercalifragilisticexpialidocious\"\n",
    "starwars = 'No, I am your father'  # spaces okay\n",
    "greeting = \"こんにちは (Konnichiwa)\" # non-Latin characters okay"
   ]
  },
  {
   "cell_type": "markdown",
   "metadata": {
    "deletable": true,
    "editable": true,
    "slideshow": {
     "slide_type": "fragment"
    }
   },
   "source": [
    "* Use ``\\n`` to stand for a newline\n",
    "* Use ``\\'`` or ``\\\"`` for literal quotes \n",
    "* Use ``\\\\`` for a literal backslash\n",
    "* Spaces preserved"
   ]
  },
  {
   "cell_type": "code",
   "execution_count": null,
   "metadata": {
    "collapsed": false,
    "deletable": true,
    "editable": true
   },
   "outputs": [],
   "source": [
    "print(\"A short 'quote'\\n     a double quote char: \\\"\\n and newlines!\")"
   ]
  },
  {
   "cell_type": "markdown",
   "metadata": {
    "deletable": true,
    "editable": true,
    "slideshow": {
     "slide_type": "subslide"
    }
   },
   "source": [
    "### Python is pedantic when comparing"
   ]
  },
  {
   "cell_type": "code",
   "execution_count": null,
   "metadata": {
    "collapsed": false,
    "deletable": true,
    "editable": true
   },
   "outputs": [],
   "source": [
    "'2' == 2            #different types!"
   ]
  },
  {
   "cell_type": "code",
   "execution_count": null,
   "metadata": {
    "collapsed": false,
    "deletable": true,
    "editable": true
   },
   "outputs": [],
   "source": [
    "type('2'), type(2)"
   ]
  },
  {
   "cell_type": "code",
   "execution_count": null,
   "metadata": {
    "collapsed": false,
    "deletable": true,
    "editable": true,
    "slideshow": {
     "slide_type": "fragment"
    }
   },
   "outputs": [],
   "source": [
    "'True' == True"
   ]
  },
  {
   "cell_type": "code",
   "execution_count": null,
   "metadata": {
    "collapsed": false,
    "deletable": true,
    "editable": true
   },
   "outputs": [],
   "source": [
    "type('True'), type(True)"
   ]
  },
  {
   "cell_type": "markdown",
   "metadata": {
    "deletable": true,
    "editable": true,
    "slideshow": {
     "slide_type": "subslide"
    }
   },
   "source": [
    "### String methods\n",
    "A list of handy funtions for working with strings.\n",
    "[Full reference](https://docs.python.org/3/library/stdtypes.html#string-methods) online."
   ]
  },
  {
   "cell_type": "code",
   "execution_count": null,
   "metadata": {
    "collapsed": false,
    "deletable": true,
    "editable": true
   },
   "outputs": [],
   "source": [
    "vowels = \"aeiou\"\n",
    "vowels.upper()"
   ]
  },
  {
   "cell_type": "code",
   "execution_count": null,
   "metadata": {
    "collapsed": false,
    "deletable": true,
    "editable": true
   },
   "outputs": [],
   "source": [
    "vowels.lower() #already lowercase"
   ]
  },
  {
   "cell_type": "code",
   "execution_count": null,
   "metadata": {
    "collapsed": false,
    "deletable": true,
    "editable": true
   },
   "outputs": [],
   "source": [
    "vowels.capitalize()"
   ]
  },
  {
   "cell_type": "code",
   "execution_count": null,
   "metadata": {
    "collapsed": false,
    "deletable": true,
    "editable": true,
    "slideshow": {
     "slide_type": "fragment"
    }
   },
   "outputs": [],
   "source": [
    "len(supercal)   #length function"
   ]
  },
  {
   "cell_type": "code",
   "execution_count": null,
   "metadata": {
    "collapsed": false,
    "deletable": true,
    "editable": true,
    "slideshow": {
     "slide_type": "fragment"
    }
   },
   "outputs": [],
   "source": [
    "supercal.count(\"a\")"
   ]
  },
  {
   "cell_type": "markdown",
   "metadata": {
    "deletable": true,
    "editable": true,
    "slideshow": {
     "slide_type": "subslide"
    }
   },
   "source": [
    "Silly example: a function which processes a yes/no prompt (y/n)"
   ]
  },
  {
   "cell_type": "code",
   "execution_count": null,
   "metadata": {
    "collapsed": false,
    "deletable": true,
    "editable": true,
    "slideshow": {
     "slide_type": "-"
    }
   },
   "outputs": [],
   "source": [
    "def handle_response(response):\n",
    "    if response.startswith(\"y\"):\n",
    "        return \"positive response\"\n",
    "    elif response.startswith(\"n\"):\n",
    "        return \"negative response\"\n",
    "    else:\n",
    "        return \"unclear response\""
   ]
  },
  {
   "cell_type": "code",
   "execution_count": null,
   "metadata": {
    "collapsed": false,
    "deletable": true,
    "editable": true,
    "slideshow": {
     "slide_type": "-"
    }
   },
   "outputs": [],
   "source": [
    "handle_response(\"yes\")"
   ]
  },
  {
   "cell_type": "code",
   "execution_count": null,
   "metadata": {
    "collapsed": false,
    "deletable": true,
    "editable": true
   },
   "outputs": [],
   "source": [
    "handle_response(\"no way man that's unreasonable\")"
   ]
  },
  {
   "cell_type": "markdown",
   "metadata": {
    "deletable": true,
    "editable": true,
    "slideshow": {
     "slide_type": "fragment"
    }
   },
   "source": [
    "What happens when we call with these arguments? Guess, then check in the notebook.\n",
    "\n",
    "* ``handle_response()``\n",
    "* ``handle_response(\"\")``\n",
    "* ``handle_response(\"YES\")``\n",
    "* ``handle_response(\" yes \")``"
   ]
  },
  {
   "cell_type": "markdown",
   "metadata": {
    "deletable": true,
    "editable": true,
    "slideshow": {
     "slide_type": "subslide"
    }
   },
   "source": [
    "``handle_response()``\n",
    "* ``TypeError``: missing argument"
   ]
  },
  {
   "cell_type": "markdown",
   "metadata": {
    "deletable": true,
    "editable": true,
    "slideshow": {
     "slide_type": "fragment"
    }
   },
   "source": [
    "``handle_response(\"\")``\n",
    "* Unclear response: the empty string `\"\"` doesn't start with anything!"
   ]
  },
  {
   "cell_type": "markdown",
   "metadata": {
    "deletable": true,
    "editable": true,
    "slideshow": {
     "slide_type": "fragment"
    }
   },
   "source": [
    "``handle_response(\"YES\")``\n",
    "* Unclear response: upper/lowercase matters for comparison"
   ]
  },
  {
   "cell_type": "code",
   "execution_count": null,
   "metadata": {
    "collapsed": false,
    "deletable": true,
    "editable": true
   },
   "outputs": [],
   "source": [
    "'Y' == 'y'"
   ]
  },
  {
   "cell_type": "markdown",
   "metadata": {
    "deletable": true,
    "editable": true,
    "slideshow": {
     "slide_type": "fragment"
    }
   },
   "source": [
    "``handle_response(\" yes \")``\n",
    "* Unclear response: first char is a space"
   ]
  },
  {
   "cell_type": "markdown",
   "metadata": {
    "deletable": true,
    "editable": true,
    "slideshow": {
     "slide_type": "subslide"
    }
   },
   "source": [
    "Often useful to **normalise** strings to a sensible form, especially if they come from user input."
   ]
  },
  {
   "cell_type": "code",
   "execution_count": null,
   "metadata": {
    "collapsed": false,
    "deletable": true,
    "editable": true
   },
   "outputs": [],
   "source": [
    "response = \"    YeS   \"\n",
    "response = response.lower()\n",
    "print( repr(response) )      # explicitly representation with repr()\n",
    "response = response.strip()  # remove whitespace from start and end\n",
    "print( repr(response) )"
   ]
  },
  {
   "cell_type": "markdown",
   "metadata": {
    "deletable": true,
    "editable": true
   },
   "source": [
    "Also handy: [``str.replace``](https://docs.python.org/3/library/stdtypes.html#str.replace):"
   ]
  },
  {
   "cell_type": "code",
   "execution_count": null,
   "metadata": {
    "collapsed": false,
    "deletable": true,
    "editable": true
   },
   "outputs": [],
   "source": [
    "x = \"The news media reported today that no news is in fact good news\"\n",
    "x.replace(\"news\", \"FAKE NEWS!!\")"
   ]
  },
  {
   "cell_type": "markdown",
   "metadata": {
    "deletable": true,
    "editable": true,
    "slideshow": {
     "slide_type": "subslide"
    }
   },
   "source": [
    "### Slicing\n",
    "\n",
    "Remember that indexing works from $0$ to $N - 1$:"
   ]
  },
  {
   "cell_type": "code",
   "execution_count": null,
   "metadata": {
    "collapsed": false,
    "deletable": true,
    "editable": true
   },
   "outputs": [],
   "source": [
    "supercal[0]"
   ]
  },
  {
   "cell_type": "code",
   "execution_count": null,
   "metadata": {
    "collapsed": false,
    "deletable": true,
    "editable": true
   },
   "outputs": [],
   "source": [
    "supercal[5]"
   ]
  },
  {
   "cell_type": "code",
   "execution_count": null,
   "metadata": {
    "collapsed": false,
    "deletable": true,
    "editable": true,
    "slideshow": {
     "slide_type": "fragment"
    }
   },
   "outputs": [],
   "source": [
    "supercal[0:5] #like range, slicing excludes upper limit"
   ]
  },
  {
   "cell_type": "code",
   "execution_count": null,
   "metadata": {
    "collapsed": false,
    "deletable": true,
    "editable": true
   },
   "outputs": [],
   "source": [
    "supercal[-1]  #Last char"
   ]
  },
  {
   "cell_type": "code",
   "execution_count": null,
   "metadata": {
    "collapsed": false,
    "deletable": true,
    "editable": true,
    "slideshow": {
     "slide_type": "fragment"
    }
   },
   "outputs": [],
   "source": [
    "supercal[:5] + \"...\" + supercal[-4:] #first five, then last 4"
   ]
  },
  {
   "cell_type": "markdown",
   "metadata": {
    "deletable": true,
    "editable": true,
    "slideshow": {
     "slide_type": "subslide"
    }
   },
   "source": [
    "### Concatenation\n",
    "\n",
    "* Glue strings together with \"+\".\n",
    "* For complicated gluings, or gluings of arbitrary length, use the [``print``](https://docs.python.org/3/library/functions.html#print) function or [``str.join``](https://docs.python.org/3/library/stdtypes.html#str.join)"
   ]
  },
  {
   "cell_type": "code",
   "execution_count": null,
   "metadata": {
    "collapsed": false,
    "deletable": true,
    "editable": true
   },
   "outputs": [],
   "source": [
    "name = \"David\"\n",
    "\"Good morning, \" + name + \".\""
   ]
  },
  {
   "cell_type": "markdown",
   "metadata": {
    "deletable": true,
    "editable": true,
    "slideshow": {
     "slide_type": "fragment"
    }
   },
   "source": [
    "* Use ``*`` as shorthand for repitition."
   ]
  },
  {
   "cell_type": "code",
   "execution_count": null,
   "metadata": {
    "collapsed": false,
    "deletable": true,
    "editable": true
   },
   "outputs": [],
   "source": [
    "'thank you ' * 10"
   ]
  },
  {
   "cell_type": "markdown",
   "metadata": {
    "deletable": true,
    "editable": true,
    "slideshow": {
     "slide_type": "fragment"
    }
   },
   "source": [
    "Even more complicated string handling available:\n",
    "* [Printf-style formatting and the format() function](pyformat.info)\n",
    "* [Python 3.6's f-strings](https://docs.python.org/3/reference/lexical_analysis.html#f-strings)."
   ]
  },
  {
   "cell_type": "markdown",
   "metadata": {
    "deletable": true,
    "editable": true,
    "slideshow": {
     "slide_type": "subslide"
    }
   },
   "source": [
    "### Looping over strings\n",
    "Awkward way:"
   ]
  },
  {
   "cell_type": "code",
   "execution_count": null,
   "metadata": {
    "collapsed": false,
    "deletable": true,
    "editable": true
   },
   "outputs": [],
   "source": [
    "example = \"demo\"\n",
    "for i in range(len(example)):\n",
    "    print(example[i])"
   ]
  },
  {
   "cell_type": "markdown",
   "metadata": {
    "deletable": true,
    "editable": true,
    "slideshow": {
     "slide_type": "fragment"
    }
   },
   "source": [
    "Slick way:"
   ]
  },
  {
   "cell_type": "code",
   "execution_count": null,
   "metadata": {
    "collapsed": false,
    "deletable": true,
    "editable": true
   },
   "outputs": [],
   "source": [
    "for character in \"demo\":\n",
    "    print(character)"
   ]
  },
  {
   "cell_type": "markdown",
   "metadata": {
    "deletable": true,
    "editable": true,
    "slideshow": {
     "slide_type": "subslide"
    }
   },
   "source": [
    "### Cheeky Challenge\n",
    "Write a function to count the number of vowels in a string.\n",
    "Assume that we're just working with the Roman alphabet---so don't worry about variants like ë, è, é, and ê.\n",
    "\n",
    "For bonus points, try using a loop to write this function."
   ]
  },
  {
   "cell_type": "code",
   "execution_count": null,
   "metadata": {
    "collapsed": true,
    "deletable": true,
    "editable": true
   },
   "outputs": [],
   "source": [
    "#Here's a space to write your function\n",
    "\n"
   ]
  },
  {
   "cell_type": "code",
   "execution_count": null,
   "metadata": {
    "collapsed": false,
    "deletable": true,
    "editable": true
   },
   "outputs": [],
   "source": [
    "#and some tests to run\n",
    "assert your_function(\"Hello\") == 2\n",
    "assert your_function(\" xyz HEllO\") == 2\n",
    "assert your_function(\"Hello, sailor\") == 5"
   ]
  },
  {
   "cell_type": "markdown",
   "metadata": {
    "deletable": true,
    "editable": true,
    "slideshow": {
     "slide_type": "slide"
    }
   },
   "source": [
    "## Data types: lists and tuples"
   ]
  },
  {
   "cell_type": "markdown",
   "metadata": {
    "deletable": true,
    "editable": true,
    "slideshow": {
     "slide_type": "-"
    }
   },
   "source": [
    "* Lists: a sequence of arbitrary Python objects"
   ]
  },
  {
   "cell_type": "code",
   "execution_count": null,
   "metadata": {
    "collapsed": false,
    "deletable": true,
    "editable": true
   },
   "outputs": [],
   "source": [
    "greek_letters = [\"alpha\", \"beta\", \"gamma\", \"delta\"]\n",
    "greek_letters[1] #Index just like strings: 0 to N-1."
   ]
  },
  {
   "cell_type": "markdown",
   "metadata": {
    "deletable": true,
    "editable": true,
    "slideshow": {
     "slide_type": "fragment"
    }
   },
   "source": [
    "* Lists can be modified in-place"
   ]
  },
  {
   "cell_type": "code",
   "execution_count": null,
   "metadata": {
    "collapsed": false,
    "deletable": true,
    "editable": true
   },
   "outputs": [],
   "source": [
    "greek_letters[1] = \"BETA (β)\"\n",
    "greek_letters"
   ]
  },
  {
   "cell_type": "markdown",
   "metadata": {
    "deletable": true,
    "editable": true,
    "slideshow": {
     "slide_type": "fragment"
    }
   },
   "source": [
    "* Lists can contain objects of different types"
   ]
  },
  {
   "cell_type": "code",
   "execution_count": null,
   "metadata": {
    "collapsed": true,
    "deletable": true,
    "editable": true
   },
   "outputs": [],
   "source": [
    "things = [\"uno\", \"dos\", 3, supercal, 2.718]"
   ]
  },
  {
   "cell_type": "markdown",
   "metadata": {
    "deletable": true,
    "editable": true
   },
   "source": [
    "* Unless they're modified, lists have a fixed length"
   ]
  },
  {
   "cell_type": "code",
   "execution_count": null,
   "metadata": {
    "collapsed": false,
    "deletable": true,
    "editable": true
   },
   "outputs": [],
   "source": [
    "len(things)"
   ]
  },
  {
   "cell_type": "markdown",
   "metadata": {
    "deletable": true,
    "editable": true,
    "slideshow": {
     "slide_type": "subslide"
    }
   },
   "source": [
    "* Lists are objects, so lists can even contain lists!"
   ]
  },
  {
   "cell_type": "code",
   "execution_count": null,
   "metadata": {
    "collapsed": false,
    "deletable": true,
    "editable": true
   },
   "outputs": [],
   "source": [
    "names_by_parts = [ [\"David\", \"Robertson\"], [\"Cetin\", \"Can\", \"Evirgen\"] ]\n",
    "print( names_by_parts[0] )\n",
    "print( names_by_parts[0][1] )"
   ]
  },
  {
   "cell_type": "markdown",
   "metadata": {
    "deletable": true,
    "editable": true,
    "slideshow": {
     "slide_type": "fragment"
    }
   },
   "source": [
    "### Quick Quiz \n",
    "\n",
    "What is ``len(names_by_parts)``?\n",
    "    \n",
    "* 2\n",
    "* 3\n",
    "* 4\n",
    "* 5"
   ]
  },
  {
   "cell_type": "code",
   "execution_count": null,
   "metadata": {
    "collapsed": false,
    "deletable": true,
    "editable": true,
    "slideshow": {
     "slide_type": "fragment"
    }
   },
   "outputs": [],
   "source": [
    "len(names_by_parts)"
   ]
  },
  {
   "cell_type": "markdown",
   "metadata": {
    "deletable": true,
    "editable": true
   },
   "source": [
    "* A list doesn't know anything special about what it contains"
   ]
  },
  {
   "cell_type": "markdown",
   "metadata": {
    "deletable": true,
    "editable": true,
    "slideshow": {
     "slide_type": "subslide"
    }
   },
   "source": [
    "* Can't access or add new list items by accident"
   ]
  },
  {
   "cell_type": "code",
   "execution_count": null,
   "metadata": {
    "collapsed": false,
    "deletable": true,
    "editable": true
   },
   "outputs": [],
   "source": [
    "greek_letters[4]"
   ]
  },
  {
   "cell_type": "code",
   "execution_count": null,
   "metadata": {
    "collapsed": false,
    "deletable": true,
    "editable": true
   },
   "outputs": [],
   "source": [
    "greek_letters[4] = 'EPSILON (ε)'"
   ]
  },
  {
   "cell_type": "markdown",
   "metadata": {
    "deletable": true,
    "editable": true,
    "slideshow": {
     "slide_type": "fragment"
    }
   },
   "source": [
    "* Use [list methods](https://docs.python.org/3/tutorial/datastructures.html) to modify the list itself, rather than its contents.\n",
    "* See also [full list description](https://docs.python.org/3/library/stdtypes.html#list)"
   ]
  },
  {
   "cell_type": "code",
   "execution_count": null,
   "metadata": {
    "collapsed": false,
    "deletable": true,
    "editable": true
   },
   "outputs": [],
   "source": [
    "greek_letters.append(\"EPSILON (ε)\")\n",
    "greek_letters"
   ]
  },
  {
   "cell_type": "markdown",
   "metadata": {
    "deletable": true,
    "editable": true,
    "slideshow": {
     "slide_type": "subslide"
    }
   },
   "source": [
    "* Other useful list methods and idoms:"
   ]
  },
  {
   "cell_type": "code",
   "execution_count": null,
   "metadata": {
    "collapsed": false,
    "deletable": true,
    "editable": true
   },
   "outputs": [],
   "source": [
    "empty_list = []\n",
    "print(empty_list, len(empty_list))"
   ]
  },
  {
   "cell_type": "code",
   "execution_count": null,
   "metadata": {
    "collapsed": true,
    "deletable": true,
    "editable": true,
    "slideshow": {
     "slide_type": "fragment"
    }
   },
   "outputs": [],
   "source": [
    "numbers = [5, 2, 64, 41, 27, -2, 11, 32]"
   ]
  },
  {
   "cell_type": "code",
   "execution_count": null,
   "metadata": {
    "collapsed": false,
    "deletable": true,
    "editable": true
   },
   "outputs": [],
   "source": [
    "numbers.sort()     #modifies list in place\n",
    "numbers"
   ]
  },
  {
   "cell_type": "code",
   "execution_count": null,
   "metadata": {
    "collapsed": false,
    "deletable": true,
    "editable": true,
    "slideshow": {
     "slide_type": "fragment"
    }
   },
   "outputs": [],
   "source": [
    "[\"ab\", 1].sort()  # Can't compare text with numbers"
   ]
  },
  {
   "cell_type": "code",
   "execution_count": null,
   "metadata": {
    "collapsed": false,
    "deletable": true,
    "editable": true,
    "slideshow": {
     "slide_type": "subslide"
    }
   },
   "outputs": [],
   "source": [
    "x = list(range(10, 20))\n",
    "x"
   ]
  },
  {
   "cell_type": "code",
   "execution_count": null,
   "metadata": {
    "collapsed": false,
    "deletable": true,
    "editable": true,
    "slideshow": {
     "slide_type": "fragment"
    }
   },
   "outputs": [],
   "source": [
    "del x[2]  #Delete the entry with index 2 (third entry)\n",
    "x"
   ]
  },
  {
   "cell_type": "code",
   "execution_count": null,
   "metadata": {
    "collapsed": false,
    "deletable": true,
    "editable": true,
    "slideshow": {
     "slide_type": "fragment"
    }
   },
   "outputs": [],
   "source": [
    "print(\"POP:\", x.pop(), x)"
   ]
  },
  {
   "cell_type": "code",
   "execution_count": null,
   "metadata": {
    "collapsed": false,
    "deletable": true,
    "editable": true,
    "slideshow": {
     "slide_type": "fragment"
    }
   },
   "outputs": [],
   "source": [
    "x.reverse() #modifies in place\n",
    "x"
   ]
  },
  {
   "cell_type": "code",
   "execution_count": null,
   "metadata": {
    "collapsed": false,
    "deletable": true,
    "editable": true,
    "slideshow": {
     "slide_type": "fragment"
    }
   },
   "outputs": [],
   "source": [
    "x.insert(4, \"surprise\")\n",
    "x"
   ]
  },
  {
   "cell_type": "markdown",
   "metadata": {
    "deletable": true,
    "editable": true,
    "slideshow": {
     "slide_type": "fragment"
    }
   },
   "source": [
    "**NB:** It's quick to extend lists at the end, but inserting or delete near the start is slower. If your list is HUGE then this can become a problem.\n",
    "\n",
    "See also the [Python wiki](https://wiki.python.org/moin/TimeComplexity) or these [course notes](https://www.ics.uci.edu/~pattis/ICS-33/lectures/complexitypython.txt)."
   ]
  },
  {
   "cell_type": "markdown",
   "metadata": {
    "deletable": true,
    "editable": true,
    "slideshow": {
     "slide_type": "subslide"
    }
   },
   "source": [
    "Looping over lists is just like strings.\n",
    "\n",
    "**Warning**: [don't modify list structure](http://stackoverflow.com/a/10812734/5252017) when looping!\n",
    "(Modifying list values is fine)"
   ]
  },
  {
   "cell_type": "code",
   "execution_count": null,
   "metadata": {
    "collapsed": false,
    "deletable": true,
    "editable": true
   },
   "outputs": [],
   "source": [
    "colours = [\"red\", \"orange\", \"yellow\", \"green\", \"blue\", \"indigo\", \"violet\"]\n",
    "for colour in colours:\n",
    "    print(colour, \"has\", len(colour), \"letters\" )"
   ]
  },
  {
   "cell_type": "code",
   "execution_count": null,
   "metadata": {
    "collapsed": false,
    "deletable": true,
    "editable": true,
    "slideshow": {
     "slide_type": "fragment"
    }
   },
   "outputs": [],
   "source": [
    "for colour in colours:\n",
    "    colours.pop()\n",
    "colours"
   ]
  },
  {
   "cell_type": "code",
   "execution_count": null,
   "metadata": {
    "collapsed": false,
    "deletable": true,
    "editable": true,
    "slideshow": {
     "slide_type": "fragment"
    }
   },
   "outputs": [],
   "source": [
    "for i, colour in enumerate(colours): #avoids range(len(colours))\n",
    "    colours[i] = colour.upper()\n",
    "colours"
   ]
  },
  {
   "cell_type": "markdown",
   "metadata": {
    "deletable": true,
    "editable": true,
    "slideshow": {
     "slide_type": "subslide"
    }
   },
   "source": [
    "### Cheeky challenge\n",
    "\n",
    "The following lines will read a list of words from a [data file](data/en-GB-words.txt).\n",
    "Use Python to find:\n",
    "* The first, middle and last word in the list\n",
    "* The percentage of words containing an ``e``\n",
    "  * Hint: use ``str.find``; or better the ``in`` operator\n",
    "* All two-letter words in the list (good for Scrabble)"
   ]
  },
  {
   "cell_type": "code",
   "execution_count": null,
   "metadata": {
    "collapsed": false,
    "deletable": true,
    "editable": true
   },
   "outputs": [],
   "source": [
    "with open('data/en-GB-words.txt', 'rt') as f:\n",
    "    words = [line.strip() for line in f]\n",
    "print(len(words), \"words. Number 2001 is\", words[2000])"
   ]
  },
  {
   "cell_type": "code",
   "execution_count": null,
   "metadata": {
    "collapsed": true,
    "deletable": true,
    "editable": true
   },
   "outputs": [],
   "source": [
    "#Workspace"
   ]
  },
  {
   "cell_type": "code",
   "execution_count": null,
   "metadata": {
    "collapsed": true
   },
   "outputs": [],
   "source": []
  },
  {
   "cell_type": "code",
   "execution_count": null,
   "metadata": {
    "collapsed": true
   },
   "outputs": [],
   "source": []
  },
  {
   "cell_type": "markdown",
   "metadata": {
    "deletable": true,
    "editable": true,
    "slideshow": {
     "slide_type": "subslide"
    }
   },
   "source": [
    "### Tuples\n",
    "\n",
    "* The same as a list, except **can't be modified after creation**.\n",
    "* Created with round brackets, not square\n",
    "* Still indexed from $0$ to $N-1$"
   ]
  },
  {
   "cell_type": "code",
   "execution_count": null,
   "metadata": {
    "collapsed": false,
    "deletable": true,
    "editable": true
   },
   "outputs": [],
   "source": [
    "coordinate = (1, 2, 3)\n",
    "coordinate"
   ]
  },
  {
   "cell_type": "code",
   "execution_count": null,
   "metadata": {
    "collapsed": false,
    "deletable": true,
    "editable": true
   },
   "outputs": [],
   "source": [
    "coordinate[0]"
   ]
  },
  {
   "cell_type": "code",
   "execution_count": null,
   "metadata": {
    "collapsed": false,
    "deletable": true,
    "editable": true,
    "slideshow": {
     "slide_type": "fragment"
    }
   },
   "outputs": [],
   "source": [
    "coordinate[0] = 10"
   ]
  },
  {
   "cell_type": "code",
   "execution_count": null,
   "metadata": {
    "collapsed": false,
    "deletable": true,
    "editable": true,
    "slideshow": {
     "slide_type": "fragment"
    }
   },
   "outputs": [],
   "source": [
    "x, y, z = coordinate      #tuple unpacking\n",
    "print(x, y, z, x + y + z)"
   ]
  },
  {
   "cell_type": "markdown",
   "metadata": {
    "deletable": true,
    "editable": true
   },
   "source": [
    "In fact, when you say ``return a, b`` from a function, what gets returned is the tuple ``(a, b)``!"
   ]
  },
  {
   "cell_type": "markdown",
   "metadata": {
    "deletable": true,
    "editable": true,
    "slideshow": {
     "slide_type": "slide"
    }
   },
   "source": [
    "## Data types: dictionaries\n",
    "\n",
    "* Unordered collection of pairs ``key -> value``\n",
    "* Keys usually strings \n",
    "* \"Hashmap\", \"Associative array\""
   ]
  },
  {
   "cell_type": "code",
   "execution_count": null,
   "metadata": {
    "collapsed": false,
    "deletable": true,
    "editable": true,
    "slideshow": {
     "slide_type": "fragment"
    }
   },
   "outputs": [],
   "source": [
    "david = dict(\n",
    "    surname = \"Robertson\",\n",
    "    given_names = [\"David\", \"Matthew\"],\n",
    "    age = 24,\n",
    "    dob = \"26/06/1992\",\n",
    "    height = 190\n",
    ")\n",
    "david"
   ]
  },
  {
   "cell_type": "markdown",
   "metadata": {
    "deletable": true,
    "editable": true,
    "slideshow": {
     "slide_type": "fragment"
    }
   },
   "source": [
    "* Index by key to get/set values"
   ]
  },
  {
   "cell_type": "code",
   "execution_count": null,
   "metadata": {
    "collapsed": false,
    "deletable": true,
    "editable": true
   },
   "outputs": [],
   "source": [
    "david['age'] = \"very very very very very very old\"\n",
    "david['age']"
   ]
  },
  {
   "cell_type": "markdown",
   "metadata": {
    "deletable": true,
    "editable": true,
    "slideshow": {
     "slide_type": "subslide"
    }
   },
   "source": [
    "### Three ways to loop:"
   ]
  },
  {
   "cell_type": "code",
   "execution_count": null,
   "metadata": {
    "collapsed": false,
    "deletable": true,
    "editable": true
   },
   "outputs": [],
   "source": [
    "for key in david:\n",
    "    print(key, end=\", \")"
   ]
  },
  {
   "cell_type": "code",
   "execution_count": null,
   "metadata": {
    "collapsed": false,
    "deletable": true,
    "editable": true,
    "slideshow": {
     "slide_type": "fragment"
    }
   },
   "outputs": [],
   "source": [
    "for value in david.values():\n",
    "    print(value, end=\", \")"
   ]
  },
  {
   "cell_type": "code",
   "execution_count": null,
   "metadata": {
    "collapsed": false,
    "deletable": true,
    "editable": true,
    "slideshow": {
     "slide_type": "fragment"
    }
   },
   "outputs": [],
   "source": [
    "for key, value in david.items():\n",
    "    print(key, \"->\", value)"
   ]
  },
  {
   "cell_type": "markdown",
   "metadata": {
    "deletable": true,
    "editable": true,
    "slideshow": {
     "slide_type": "subslide"
    }
   },
   "source": [
    "Dictionaries have a length too:"
   ]
  },
  {
   "cell_type": "code",
   "execution_count": null,
   "metadata": {
    "collapsed": false,
    "deletable": true,
    "editable": true
   },
   "outputs": [],
   "source": [
    "len(david)"
   ]
  },
  {
   "cell_type": "markdown",
   "metadata": {
    "deletable": true,
    "editable": true,
    "slideshow": {
     "slide_type": "fragment"
    }
   },
   "source": [
    "Python will complain if you ask for a missing key:"
   ]
  },
  {
   "cell_type": "code",
   "execution_count": null,
   "metadata": {
    "collapsed": false,
    "deletable": true,
    "editable": true,
    "slideshow": {
     "slide_type": "-"
    }
   },
   "outputs": [],
   "source": [
    "david['weight']"
   ]
  },
  {
   "cell_type": "markdown",
   "metadata": {
    "deletable": true,
    "editable": true,
    "slideshow": {
     "slide_type": "fragment"
    }
   },
   "source": [
    "Can check if a key is present with ``in``:"
   ]
  },
  {
   "cell_type": "code",
   "execution_count": null,
   "metadata": {
    "collapsed": false,
    "deletable": true,
    "editable": true
   },
   "outputs": [],
   "source": [
    "'surname' in david"
   ]
  },
  {
   "cell_type": "markdown",
   "metadata": {
    "deletable": true,
    "editable": true
   },
   "source": [
    "NB: The Python community [tends to prefer](http://softwareengineering.stackexchange.com/a/225244) [``dict.get()``](https://docs.python.org/3/library/stdtypes.html#dict.get) or exception handling when keys might be missing."
   ]
  },
  {
   "cell_type": "markdown",
   "metadata": {
    "deletable": true,
    "editable": true,
    "slideshow": {
     "slide_type": "subslide"
    }
   },
   "source": [
    "### Cheeky challenge\n",
    "The [following data file](https://github.com/Bowserinator/Periodic-Table-JSON) contains the periodic table as a dictionary. We're going to load it into a list, and each entry of that list will be a dictionary."
   ]
  },
  {
   "cell_type": "code",
   "execution_count": null,
   "metadata": {
    "collapsed": false,
    "deletable": true,
    "editable": true
   },
   "outputs": [],
   "source": [
    "import json\n",
    "with open(\"data/PeriodicTable.json\", \"rt\") as f:\n",
    "    table = json.loads(f.read())['elements']"
   ]
  },
  {
   "cell_type": "code",
   "execution_count": null,
   "metadata": {
    "collapsed": false,
    "deletable": true,
    "editable": true,
    "slideshow": {
     "slide_type": "fragment"
    }
   },
   "outputs": [],
   "source": [
    "table[0]"
   ]
  },
  {
   "cell_type": "markdown",
   "metadata": {
    "deletable": true,
    "editable": true,
    "slideshow": {
     "slide_type": "subslide"
    }
   },
   "source": [
    "Your challenges:\n",
    "* Which element is densest?\n",
    "* Create a new dictionary mapping elements' symbols to their names. For example, if ``D`` is the dictionary, ``D['H'] == 'Hydrogen'``.\n",
    "* Sorted alphabetically, what's the first and last element symbol?\n",
    "* Sorted alphabetically, what's the first and last element *name*?\n",
    "* How many elements' symbols have a different first letter to their name?"
   ]
  },
  {
   "cell_type": "code",
   "execution_count": null,
   "metadata": {
    "collapsed": false,
    "deletable": true,
    "editable": true,
    "slideshow": {
     "slide_type": "subslide"
    }
   },
   "outputs": [],
   "source": [
    "#Here's your workspace. I've left a cell for each challenge"
   ]
  },
  {
   "cell_type": "code",
   "execution_count": null,
   "metadata": {
    "collapsed": true
   },
   "outputs": [],
   "source": []
  },
  {
   "cell_type": "code",
   "execution_count": null,
   "metadata": {
    "collapsed": true
   },
   "outputs": [],
   "source": []
  },
  {
   "cell_type": "code",
   "execution_count": null,
   "metadata": {
    "collapsed": true
   },
   "outputs": [],
   "source": []
  },
  {
   "cell_type": "code",
   "execution_count": null,
   "metadata": {
    "collapsed": true
   },
   "outputs": [],
   "source": []
  },
  {
   "cell_type": "markdown",
   "metadata": {
    "deletable": true,
    "editable": true,
    "slideshow": {
     "slide_type": "slide"
    }
   },
   "source": [
    "## After lunch:\n",
    "\n",
    "* Can will give a crash course in NumPy\n",
    "* Some more exercises, chances to practise\n",
    "* Sell it some more here\n",
    "\n",
    "# Regroup at 1pm"
   ]
  },
  {
   "cell_type": "markdown",
   "metadata": {
    "deletable": true,
    "editable": true,
    "slideshow": {
     "slide_type": "slide"
    }
   },
   "source": [
    "## Three (very useful) Python packages\n",
    "\n",
    "* NumPy, SciPy and matplotlib\n",
    "* There are many Python packages, so these three aren't quite the Full Monty\n",
    "* But they are the three most commonly used packages in data analysis and visualisation\n",
    "* There are other packages written by Python developers\n",
    "* Some relating to specific areas of study or industry i.e astropy\n"
   ]
  },
  {
   "cell_type": "markdown",
   "metadata": {
    "deletable": true,
    "editable": true,
    "slideshow": {
     "slide_type": "subslide"
    }
   },
   "source": [
    "### [NumPy](http://www.numpy.org/)\n",
    "\n",
    "* A Python package designed for efficient handling of data\n",
    "* Data stored and used in multi-dimensional objects called arrays\n",
    "* NumPy also has linear algebra, Fourier Transform and random number generation capabilities\n",
    "* Every script I've ever written starts with the line \n",
    "```\n",
    "import numpy as np\n",
    "```"
   ]
  },
  {
   "cell_type": "markdown",
   "metadata": {
    "deletable": true,
    "editable": true,
    "slideshow": {
     "slide_type": "subslide"
    }
   },
   "source": [
    "## [SciPy](https://docs.scipy.org/doc/scipy/reference/)\n",
    "\n",
    "* This package contains most of the * useful * routines for STEM subjects\n",
    "* Statistics, linear algebra, image analysis, Fourier Transforms,...\n",
    "* Every script I've ever written features this as a second line:\n",
    "```\n",
    "import scipy as sp\n",
    "```"
   ]
  },
  {
   "cell_type": "markdown",
   "metadata": {
    "deletable": true,
    "editable": true,
    "slideshow": {
     "slide_type": "subslide"
    }
   },
   "source": [
    "## [matplotlib](http://matplotlib.org/)\n",
    "\n",
    "* A vast array of 2D plotting functions\n",
    "* Limited 3D plotting\n",
    "* Modules like MayaVi are much better for 3D plotting (but we won't have time for it today)\n"
   ]
  },
  {
   "cell_type": "markdown",
   "metadata": {
    "deletable": true,
    "editable": true,
    "slideshow": {
     "slide_type": "subslide"
    }
   },
   "source": [
    "## Aside\n",
    "\n",
    "* We can either import a whole module, specific sub-modules or even just functions\n",
    "* Avoids cluttering up the name space with unnecessary functions\n",
    "```\n",
    "import matplotlib.pyplot as plt\n",
    "```\n",
    "\n",
    "* Or\n",
    "```\n",
    "from matplotlib.colors import LogNorm\n",
    "```"
   ]
  },
  {
   "cell_type": "markdown",
   "metadata": {
    "deletable": true,
    "editable": true,
    "slideshow": {
     "slide_type": "slide"
    }
   },
   "source": [
    "## What is an array?\n",
    "\n",
    "* 1D array: Vector\n",
    "* 2D array: Matrix\n",
    "* These are easy to visualise because paper (and screens) are 2D\n",
    "* Let's motivate the use of higher dimensional arrays with an example..."
   ]
  },
  {
   "cell_type": "code",
   "execution_count": null,
   "metadata": {
    "collapsed": false,
    "deletable": true,
    "editable": true,
    "slideshow": {
     "slide_type": "subslide"
    }
   },
   "outputs": [],
   "source": [
    "np.ones(6)"
   ]
  },
  {
   "cell_type": "code",
   "execution_count": null,
   "metadata": {
    "collapsed": false,
    "deletable": true,
    "editable": true,
    "slideshow": {
     "slide_type": "subslide"
    }
   },
   "outputs": [],
   "source": [
    "np.ones([3,3])"
   ]
  },
  {
   "cell_type": "code",
   "execution_count": null,
   "metadata": {
    "collapsed": false,
    "deletable": true,
    "editable": true,
    "slideshow": {
     "slide_type": "subslide"
    }
   },
   "outputs": [],
   "source": [
    "np.ones([3,3,3])"
   ]
  },
  {
   "cell_type": "markdown",
   "metadata": {
    "deletable": true,
    "editable": true,
    "slideshow": {
     "slide_type": "subslide"
    }
   },
   "source": [
    "* It's starting to become confusing, isn't it?\n",
    "* Shall we move to 4D and make the dimensions a little bigger?"
   ]
  },
  {
   "cell_type": "code",
   "execution_count": null,
   "metadata": {
    "collapsed": false,
    "deletable": true,
    "editable": true,
    "slideshow": {
     "slide_type": "subslide"
    }
   },
   "outputs": [],
   "source": [
    "np.ones([3,544,256,256])"
   ]
  },
  {
   "cell_type": "markdown",
   "metadata": {
    "deletable": true,
    "editable": true,
    "slideshow": {
     "slide_type": "subslide"
    }
   },
   "source": [
    "* That's the shape of one my vector fields, say the magnetic field\n",
    "* But let's go back to a slightly smaller example\n",
    "* Say we have a company that makes buttons for suits\n",
    "* They have 5 different shapes of button and 8 different colours\n",
    "* Stock can be kept in an array of shape (5,4) - 5 rows and 4 colums\n",
    "* A stock take is carried out each month and we have data from the last 20 (illustrious) years\n",
    "* This information can be stored in a 4D array of shape (20,12,5,4)\n"
   ]
  },
  {
   "cell_type": "markdown",
   "metadata": {
    "deletable": true,
    "editable": true,
    "slideshow": {
     "slide_type": "slide"
    }
   },
   "source": [
    "## [Creating an array](https://docs.scipy.org/doc/numpy/reference/routines.array-creation.html)\n",
    "\n",
    "* If you're not loading data from another file, you need to create a storage array for your data\n",
    "* You can create an array manually (only advisable for small arrays)\n",
    "```\n",
    "np.array([[1,2],[3,4],[5,6]])\n",
    "```\n",
    "\n",
    "* The most common type is an array of zeros - ready for input\n",
    "```\n",
    "np.zeros([20,12,5,4])\n",
    "```\n",
    "\n",
    "* You can also create a create an array of ones\n",
    "```\n",
    "np.ones([20,12,5,4])\n",
    "```"
   ]
  },
  {
   "cell_type": "markdown",
   "metadata": {
    "deletable": true,
    "editable": true,
    "slideshow": {
     "slide_type": "subslide"
    }
   },
   "source": [
    "## Cheeky challenge\n",
    "We define an array\n",
    "```\n",
    "arr = np.array([[1,2,3],[3,4,5]])\n",
    "```\n",
    "What is its?\n",
    "\n",
    "1. shape\n",
    "2. dimension\n",
    "3. size"
   ]
  },
  {
   "cell_type": "code",
   "execution_count": null,
   "metadata": {
    "collapsed": true,
    "deletable": true,
    "editable": true,
    "slideshow": {
     "slide_type": "subslide"
    }
   },
   "outputs": [],
   "source": [
    "arr = np.array([[1,2,3],[3,4,5]])"
   ]
  },
  {
   "cell_type": "code",
   "execution_count": null,
   "metadata": {
    "collapsed": true
   },
   "outputs": [],
   "source": [
    "arr.shape"
   ]
  },
  {
   "cell_type": "code",
   "execution_count": null,
   "metadata": {
    "collapsed": true
   },
   "outputs": [],
   "source": [
    "arr.ndim"
   ]
  },
  {
   "cell_type": "code",
   "execution_count": null,
   "metadata": {
    "collapsed": true
   },
   "outputs": [],
   "source": [
    "arr.size"
   ]
  },
  {
   "cell_type": "markdown",
   "metadata": {
    "deletable": true,
    "editable": true,
    "slideshow": {
     "slide_type": "subslide"
    }
   },
   "source": [
    "* Axis (dimension) 0 has length 2 and Axis 1 has length 3\n",
    "* This tells us that the array is 2D\n",
    "* There are 6 values stored in this array in total\n",
    "* This is easy to do for this object but what happens when you load some array?"
   ]
  },
  {
   "cell_type": "markdown",
   "metadata": {
    "deletable": true,
    "editable": true,
    "slideshow": {
     "slide_type": "slide"
    }
   },
   "source": [
    "## Loading NumPy arrays\n",
    "\n",
    "* Let's say you have an array saved somewhere\n",
    "* These files will have the \".npy\" extension\n",
    "* Use ```load``` function in NumPy\n",
    "```\n",
    "loaded_array = np.load('file_name.npy')\n",
    "```\n",
    "\n",
    "## Cheeky challenge\n",
    "\n",
    "Try loading a file called ```arr.npy```. Find out its shape, dimension and size.\n",
    "The first line of code is given below as a freebie."
   ]
  },
  {
   "cell_type": "code",
   "execution_count": null,
   "metadata": {
    "collapsed": false,
    "deletable": true,
    "editable": true,
    "slideshow": {
     "slide_type": "subslide"
    }
   },
   "outputs": [],
   "source": [
    "arr = np.load('arr.npy')"
   ]
  },
  {
   "cell_type": "markdown",
   "metadata": {
    "deletable": true,
    "editable": true,
    "slideshow": {
     "slide_type": "slide"
    }
   },
   "source": [
    "## A slightly random diversion - Random sampling\n",
    "\n",
    "* Before we delve deeper into the world of arrays, let's have a look at [numpy.random](https://docs.scipy.org/doc/numpy/reference/routines.random.html) \n",
    "* When you become familiar with Python, you might have a specific function in mind\n",
    "* But you may forget its name or exactly what it does\n",
    "* You can either Google it and be re-directed to the link above\n",
    "* Or just try the following..."
   ]
  },
  {
   "cell_type": "code",
   "execution_count": null,
   "metadata": {
    "collapsed": false,
    "deletable": true,
    "editable": true,
    "slideshow": {
     "slide_type": "subslide"
    }
   },
   "outputs": [],
   "source": [
    "np.random.rand?"
   ]
  },
  {
   "cell_type": "code",
   "execution_count": null,
   "metadata": {
    "collapsed": false,
    "deletable": true,
    "editable": true,
    "slideshow": {
     "slide_type": "slide"
    }
   },
   "outputs": [],
   "source": [
    "np.random.rand()"
   ]
  },
  {
   "cell_type": "markdown",
   "metadata": {
    "deletable": true,
    "editable": true,
    "slideshow": {
     "slide_type": "subslide"
    }
   },
   "source": [
    "* ~~I'm inherently very lazy and wish to cut corners~~\n",
    "* It's nice to work as efficiently as possible\n",
    "* If you know that you're going to be using a function a lot...\n",
    "* And it has a long name, why not import it as something nicer?"
   ]
  },
  {
   "cell_type": "code",
   "execution_count": null,
   "metadata": {
    "collapsed": false,
    "deletable": true,
    "editable": true,
    "slideshow": {
     "slide_type": "subslide"
    }
   },
   "outputs": [],
   "source": [
    "from numpy.random import rand as nice\n",
    "nice()"
   ]
  },
  {
   "cell_type": "markdown",
   "metadata": {
    "deletable": true,
    "editable": true,
    "slideshow": {
     "slide_type": "subslide"
    }
   },
   "source": [
    "* The ``rand`` or ``nice`` function draws samples of a designated shape from a uniform distribution\n",
    "* If you call it without any input, it has a default argument (input) which tells it to generate a single random number\n",
    "* Otherwise, arguments are supplied by the user\n",
    "* Let's have a look at how that works\n"
   ]
  },
  {
   "cell_type": "code",
   "execution_count": null,
   "metadata": {
    "collapsed": false,
    "deletable": true,
    "editable": true,
    "slideshow": {
     "slide_type": "subslide"
    }
   },
   "outputs": [],
   "source": [
    "nice(5)"
   ]
  },
  {
   "cell_type": "code",
   "execution_count": null,
   "metadata": {
    "collapsed": false,
    "deletable": true,
    "editable": true,
    "slideshow": {
     "slide_type": "subslide"
    }
   },
   "outputs": [],
   "source": [
    "nice(2,4)"
   ]
  },
  {
   "cell_type": "markdown",
   "metadata": {
    "deletable": true,
    "editable": true,
    "slideshow": {
     "slide_type": "subslide"
    }
   },
   "source": [
    "## Cheeky challenge\n",
    "\n",
    "Can you guess, without using any code, what the shape and dimension of the following array will be?\n",
    "```\n",
    "arr = nice(4,5,5,6)\n",
    "```"
   ]
  },
  {
   "cell_type": "code",
   "execution_count": null,
   "metadata": {
    "collapsed": false,
    "deletable": true,
    "editable": true,
    "slideshow": {
     "slide_type": "subslide"
    }
   },
   "outputs": [],
   "source": [
    "arr = nice(4,5,5,6)\n",
    "print('The shape of the array is', arr.shape)\n",
    "print('The array is', arr.ndim, 'dimensional')"
   ]
  },
  {
   "cell_type": "markdown",
   "metadata": {
    "deletable": true,
    "editable": true,
    "slideshow": {
     "slide_type": "subslide"
    }
   },
   "source": [
    "* This ends the brief introduction into random sampling with NumPy\n",
    "* There are many other types of sampling available\n",
    "* They can be found [here](https://docs.scipy.org/doc/numpy/reference/routines.random.html)\n",
    "* However, we now have enough random sampling tools to go back to arrays!"
   ]
  },
  {
   "cell_type": "markdown",
   "metadata": {
    "deletable": true,
    "editable": true,
    "slideshow": {
     "slide_type": "slide"
    }
   },
   "source": [
    "## Arithmetic using arrays\n",
    "\n",
    "* In Python, you can apply functions element-wise to an entire array\n",
    "* We might wish to calculate the square root, sine, cube of each element\n",
    "* Here is an example"
   ]
  },
  {
   "cell_type": "code",
   "execution_count": null,
   "metadata": {
    "collapsed": false,
    "deletable": true,
    "editable": true,
    "slideshow": {
     "slide_type": "subslide"
    }
   },
   "outputs": [],
   "source": [
    "arr = np.arange(6)\n",
    "print(arr)\n",
    "print(arr ** 2)\n",
    "print(2 * arr + 5)"
   ]
  },
  {
   "cell_type": "markdown",
   "metadata": {
    "deletable": true,
    "editable": true,
    "slideshow": {
     "slide_type": "subslide"
    }
   },
   "source": [
    "## Applying functions to arrays\n",
    "\n",
    "* You can also apply functions to arrays"
   ]
  },
  {
   "cell_type": "code",
   "execution_count": null,
   "metadata": {
    "collapsed": false,
    "deletable": true,
    "editable": true,
    "slideshow": {
     "slide_type": "subslide"
    }
   },
   "outputs": [],
   "source": [
    "np.mean(arr)"
   ]
  },
  {
   "cell_type": "code",
   "execution_count": null,
   "metadata": {
    "collapsed": false,
    "deletable": true,
    "editable": true,
    "slideshow": {
     "slide_type": "subslide"
    }
   },
   "outputs": [],
   "source": [
    "np.std(arr)"
   ]
  },
  {
   "cell_type": "markdown",
   "metadata": {
    "deletable": true,
    "editable": true,
    "slideshow": {
     "slide_type": "subslide"
    }
   },
   "source": [
    "* If you have a multi-dimensional array, you can apply a function to only one dimension (axis)\n",
    "* Let's generate a (3,3,3) array of random uniform numbers\n",
    "* Then calculate the mean of the whole array, as well as means along the 0 axis"
   ]
  },
  {
   "cell_type": "code",
   "execution_count": null,
   "metadata": {
    "collapsed": false,
    "deletable": true,
    "editable": true,
    "slideshow": {
     "slide_type": "subslide"
    }
   },
   "outputs": [],
   "source": [
    "arr = nice(3,3,3)\n",
    "np.mean(arr)\n",
    "arr1 = np.mean(arr,axis=0)\n",
    "print('Shape of original array is', arr.shape)\n",
    "print('It is', arr.ndim, 'dimensional')\n",
    "print('Shape of array of means is', arr1.shape)\n",
    "print('It is', arr1.ndim, 'dimensional')"
   ]
  },
  {
   "cell_type": "markdown",
   "metadata": {
    "deletable": true,
    "editable": true,
    "slideshow": {
     "slide_type": "subslide"
    }
   },
   "source": [
    "## Aside: [```arange```](https://docs.scipy.org/doc/numpy/reference/generated/numpy.arange.html) is a useful function\n",
    "\n",
    "* Same as the builtin ``range()`` function, but builds an array in memory"
   ]
  },
  {
   "cell_type": "code",
   "execution_count": null,
   "metadata": {
    "collapsed": false,
    "deletable": true,
    "editable": true
   },
   "outputs": [],
   "source": [
    "np.arange(5)"
   ]
  },
  {
   "cell_type": "markdown",
   "metadata": {
    "deletable": true,
    "editable": true,
    "slideshow": {
     "slide_type": "subslide"
    }
   },
   "source": [
    "## You can change the start and end point of the list, as well as the step size\n",
    "\n",
    "## Cheeky challenge\n",
    "\n",
    "* Using ```np.arange``` create a list starting from 50, ending at (but including) -5 in steps of 5\n",
    "* Cheeky hint: Use ```np.arange?``` for details of the function"
   ]
  },
  {
   "cell_type": "code",
   "execution_count": null,
   "metadata": {
    "collapsed": false,
    "deletable": true,
    "editable": true,
    "slideshow": {
     "slide_type": "subslide"
    }
   },
   "outputs": [],
   "source": [
    "#Your answer here\n",
    "#I'm now being mean and not putting the answer below the question ;)"
   ]
  },
  {
   "cell_type": "markdown",
   "metadata": {
    "deletable": true,
    "editable": true,
    "slideshow": {
     "slide_type": "subslide"
    }
   },
   "source": [
    "* You can also look up other routines for [creating mesh grids](https://docs.scipy.org/doc/numpy/reference/routines.array-creation.html), particularly the Section on * Numerical ranges *\n",
    "* ```linspace``` and ```mgrid``` are good, too"
   ]
  },
  {
   "cell_type": "markdown",
   "metadata": {
    "deletable": true,
    "editable": true,
    "slideshow": {
     "slide_type": "subslide"
    }
   },
   "source": [
    "## [Array indexing](https://docs.scipy.org/doc/numpy/reference/routines.indexing.html) with NumPy\n",
    "\n",
    "* David introduced array indexing and slicing this morning\n",
    "* Let's take it a step further now\n",
    "* This is one of the big strengths of Python\n",
    "* You can do some pretty fancy indexing in a very simple way\n",
    "* Instead of specifying indices or slices manually, what if we have large data and wish to index according to a rule?\n",
    "* Let's start with a simple example..."
   ]
  },
  {
   "cell_type": "code",
   "execution_count": null,
   "metadata": {
    "collapsed": false,
    "deletable": true,
    "editable": true,
    "slideshow": {
     "slide_type": "subslide"
    }
   },
   "outputs": [],
   "source": [
    "x = np.arange(10)\n",
    "#Where are the values of x greater than 5?\n",
    "x > 5"
   ]
  },
  {
   "cell_type": "code",
   "execution_count": null,
   "metadata": {
    "collapsed": false,
    "deletable": true,
    "editable": true,
    "slideshow": {
     "slide_type": "subslide"
    }
   },
   "outputs": [],
   "source": [
    "#This produces a new array containing only the values greater than 5\n",
    "x[x > 5]"
   ]
  },
  {
   "cell_type": "code",
   "execution_count": null,
   "metadata": {
    "collapsed": false,
    "deletable": true,
    "editable": true,
    "slideshow": {
     "slide_type": "subslide"
    }
   },
   "outputs": [],
   "source": [
    "#Say we have another array y, of the same shape as x\n",
    "d = x.shape[0]\n",
    "y = nice(d)\n",
    "print(y)\n",
    "print(x[y < 0.5])\n",
    "#You can use other arrays to filter data within an array\n",
    "#But they have to be the same shape!"
   ]
  },
  {
   "cell_type": "code",
   "execution_count": null,
   "metadata": {
    "collapsed": false,
    "deletable": true,
    "editable": true,
    "slideshow": {
     "slide_type": "subslide"
    }
   },
   "outputs": [],
   "source": [
    "#How about if you want to combine filters?\n",
    "flt = (x>5) & (y<0.5)\n",
    "print(x[flt])"
   ]
  },
  {
   "cell_type": "markdown",
   "metadata": {
    "deletable": true,
    "editable": true,
    "slideshow": {
     "slide_type": "subslide"
    }
   },
   "source": [
    "* This type of slicing is useful if you only want to extract certain elements of an array\n",
    "* Without preserving the data structure of the original array(s)\n",
    "* But what if data structure is important?"
   ]
  },
  {
   "cell_type": "markdown",
   "metadata": {
    "deletable": true,
    "editable": true,
    "slideshow": {
     "slide_type": "slide"
    }
   },
   "source": [
    "## Introducing one of my favourite functions - [```np.where```](https://docs.scipy.org/doc/numpy/reference/generated/numpy.where.html)\n",
    "\n",
    "* The ```where``` function can be used to slice without changing data structure\n",
    "* It's incredibly useful - as you can probably tell, I love it...\n",
    "* It works roughly like this:\n",
    "```\n",
    "np.where(some_condition, values_if_condition_true, values_if_condition_false)\n",
    "```\n",
    "\n",
    "* Let's have a look at an example"
   ]
  },
  {
   "cell_type": "code",
   "execution_count": null,
   "metadata": {
    "collapsed": false,
    "deletable": true,
    "editable": true,
    "slideshow": {
     "slide_type": "subslide"
    }
   },
   "outputs": [],
   "source": [
    "ok = np.where(flt,x,-1000)\n",
    "ok"
   ]
  },
  {
   "cell_type": "code",
   "execution_count": null,
   "metadata": {
    "collapsed": false,
    "deletable": true,
    "editable": true,
    "slideshow": {
     "slide_type": "subslide"
    }
   },
   "outputs": [],
   "source": [
    "#Alternatively, you can provide a condition without any values\n",
    "#This gives you a list of positions where the condition is true\n",
    "np.where(flt)"
   ]
  },
  {
   "cell_type": "code",
   "execution_count": null,
   "metadata": {
    "collapsed": false,
    "deletable": true,
    "editable": true,
    "slideshow": {
     "slide_type": "subslide"
    }
   },
   "outputs": [],
   "source": [
    "import matplotlib.pyplot as plt\n",
    "#Let's try visualising what where does\n",
    "\n",
    "#Generate a (50,50) array of random uniform numbers\n",
    "image = nice(50,50)\n",
    "#Where the values of the array are smaller than 0.5, let the value of the new array `ok` be 0.\n",
    "#Otherwise, set the value to 1.\n",
    "ok = np.where(image<0.5,0,1)\n",
    "plt.imshow(image,interpolation=None)\n",
    "plt.colorbar()\n",
    "plt.show()"
   ]
  },
  {
   "cell_type": "code",
   "execution_count": null,
   "metadata": {
    "collapsed": false,
    "deletable": true,
    "editable": true,
    "slideshow": {
     "slide_type": "subslide"
    }
   },
   "outputs": [],
   "source": [
    "plt.imshow(ok)\n",
    "plt.show()"
   ]
  },
  {
   "cell_type": "code",
   "execution_count": null,
   "metadata": {
    "collapsed": false,
    "deletable": true,
    "editable": true,
    "slideshow": {
     "slide_type": "subslide"
    }
   },
   "outputs": [],
   "source": [
    "print('The shape of image is', image.shape)\n",
    "print('The shape of ok is', ok.shape)"
   ]
  },
  {
   "cell_type": "markdown",
   "metadata": {
    "deletable": true,
    "editable": true,
    "slideshow": {
     "slide_type": "subslide"
    }
   },
   "source": [
    "## Re-visit a Cheeky Challenge\n",
    "\n",
    "In a previous challenge, David asked you solve the following question:\n",
    "\n",
    "\"The *sign* or *signum* function is defined by\n",
    "$$\\operatorname{sign}(x) = \\begin{cases}\n",
    "     \\phantom{-}1 & \\text{if $x>0$} \\\\\n",
    "     \\phantom{-}0 & \\text{if $x=0$} \\\\\n",
    "    -1 & \\text{if $x<0$}\n",
    "\\end{cases}$$\n",
    "\n",
    "Implement this as a Python function.\"\n",
    "\n",
    "Now, I want you to implement this as a function for an array, without using a for loop."
   ]
  },
  {
   "cell_type": "code",
   "execution_count": null,
   "metadata": {
    "collapsed": false,
    "deletable": true,
    "editable": true,
    "slideshow": {
     "slide_type": "subslide"
    }
   },
   "outputs": [],
   "source": [
    "#Your workspace"
   ]
  },
  {
   "cell_type": "markdown",
   "metadata": {
    "deletable": true,
    "editable": true,
    "slideshow": {
     "slide_type": "slide"
    }
   },
   "source": [
    "## A more practical example\n",
    "\n",
    "* My work involves datasets representing physical quantities such as gas temperature, gas density and magnetic field strength\n",
    "* The simulation domain is on a mesh of size (544,256,256)\n",
    "* This represents a chunk of the Galaxy, in which temperatures can range from 100 K to 10,000,000 K\n",
    "* So, I have to filter my data to make sense of the system\n",
    "* We're going to look at information from a slice of data from a single snapshot"
   ]
  },
  {
   "cell_type": "markdown",
   "metadata": {
    "deletable": true,
    "editable": true,
    "slideshow": {
     "slide_type": "subslide"
    }
   },
   "source": [
    "* Firstly, let's read the data into Python\n",
    "* We'll have to navigate our folders, which we thankfully can do without a mouse\n",
    "* Use the ```os``` module\n",
    "* I'll say more about this module later"
   ]
  },
  {
   "cell_type": "code",
   "execution_count": null,
   "metadata": {
    "collapsed": false,
    "deletable": true,
    "editable": true,
    "slideshow": {
     "slide_type": "subslide"
    }
   },
   "outputs": [],
   "source": [
    "#Load modules\n",
    "import numpy as np\n",
    "import os\n",
    "\n",
    "#This tells us where we are\n",
    "#ie the current working directory\n",
    "print('We are in the directory:', os.getcwd())\n",
    "\n",
    "#We can define a string as our home directory\n",
    "hm_dir = os.path.expanduser('~/Documents/pg_module/python_shared/pgrdp-python/')\n",
    "print('We have a string called hm_dir, which points to:', hm_dir)\n",
    "\n",
    "#Let's go to the folder containing the data\n",
    "os.chdir(hm_dir + '/media')\n",
    "\n",
    "#Now check where we are again\n",
    "print('We are in the directory:', os.getcwd())\n",
    "\n",
    "#We can list the documents in the cwd\n",
    "print('Here are the contents of the current working directory:')\n",
    "print(os.listdir())\n",
    "\n",
    "#Before we load the data, there is one important issue\n",
    "#The data is in code units, so we need to convert to physical units\n",
    "#Here is where a dictionary can come in handy\n",
    "unit_conversion = {'bb': 3.54491e-7, 'tt': 44.74127, 'rho': 1e-24}\n",
    "\n",
    "#Now we can load data and simultaneously convert from code to physical units\n",
    "bb = np.load('bb_slice.npy') * unit_conversion['bb']\n",
    "tt = np.load('tt_slice.npy') * unit_conversion['tt']\n",
    "rho = np.load('rho_slice.npy') * unit_conversion['rho']\n"
   ]
  },
  {
   "cell_type": "code",
   "execution_count": null,
   "metadata": {
    "collapsed": false,
    "deletable": true,
    "editable": true,
    "slideshow": {
     "slide_type": "subslide"
    }
   },
   "outputs": [],
   "source": [
    "#Before we do anything, let's have a quick look at the shapes of the data\n",
    "print('Shape of bb is:', bb.shape)\n",
    "print('Shape of tt is:', tt.shape)\n",
    "print('Shape of rho is:', rho.shape)\n",
    "\n",
    "#We notice that they aren't all the same shape\n",
    "#The (544,256) part is common to all but bb is a 3D array and not 2D like the others\n",
    "#This is because the (544,256) portion refers to phsyical coordinates\n",
    "#All variables are in 2D physical space but...\n",
    "#The magnetic field has an x,y and z component for at each coordinate\n",
    "#You can think of bb as containing 3 slices of size (544,256)"
   ]
  },
  {
   "cell_type": "markdown",
   "metadata": {
    "deletable": true,
    "editable": true,
    "slideshow": {
     "slide_type": "subslide"
    }
   },
   "source": [
    "* ```bb``` actually shows the magnetic field configuration but I want the strength\n",
    "* This is defined as\n",
    "$$\n",
    "B = (B_x^2+B_y^2+B_z^2)^{1/2}\n",
    "$$\n",
    "\n",
    "## Cheeky challenge\n",
    "\n",
    "Calculate the magnetic field strength from ``bb`` and store it in an array called ```B```."
   ]
  },
  {
   "cell_type": "code",
   "execution_count": null,
   "metadata": {
    "collapsed": true,
    "deletable": true,
    "editable": true,
    "slideshow": {
     "slide_type": "subslide"
    }
   },
   "outputs": [],
   "source": [
    "#Method 1 \n",
    "\n",
    "#Find lengths of each dimension of bb\n",
    "d1, d2, d3 = bb.shape\n",
    "#Create storage array\n",
    "B = np.zeros([d2, d3])\n",
    "\n",
    "#Calculate element by element, in for loop\n",
    "for i in np.arange(d2):\n",
    "    for j in np.arange(d3):\n",
    "        #Take magnetic field configuration at current position\n",
    "        cur = bb[:,i,j]\n",
    "        B[i,j] = np.sqrt(cur[0]**2 + cur[1]**2 + cur[2]**2)\n",
    "\n",
    "#Method 2 - The Neater One\n",
    "B = np.sqrt(np.sum(bb*bb,axis=0))\n",
    "\n",
    "#Why does it work?\n",
    "#bb*bb squares every element in bb\n",
    "#Summing over Axis 0 of the product essentially adds the squares of the x,y and z components together\n",
    "#Square applies to each element of the new array\n",
    "\n",
    "#Where possible, use in-built functions in Python\n",
    "#It reduces coding, and related errors\n",
    "#It is also likely to be much faster than writing your own functions\n",
    "#The in-built functions will use all kinds of clever tricks to reduce run time\n"
   ]
  },
  {
   "cell_type": "code",
   "execution_count": null,
   "metadata": {
    "collapsed": true,
    "deletable": true,
    "editable": true,
    "slideshow": {
     "slide_type": "subslide"
    }
   },
   "outputs": [],
   "source": [
    "#The gas density data spans many orders of magnitude\n",
    "#Let's just have a look at a picture\n",
    "plt.imshow(rho)\n",
    "plt.colorbar()\n",
    "plt.show()\n",
    "#This doesn't quite tell the whole story..."
   ]
  },
  {
   "cell_type": "code",
   "execution_count": null,
   "metadata": {
    "collapsed": false,
    "deletable": true,
    "editable": true,
    "slideshow": {
     "slide_type": "subslide"
    }
   },
   "outputs": [],
   "source": [
    "#Let's try a different way of colour coding density - a logarithmic scale\n",
    "\n",
    "from matplotlib.colors import LogNorm\n",
    "plt.imshow(rho,norm=LogNorm())\n",
    "plt.colorbar()\n",
    "plt.show()\n",
    "\n",
    "#The difference between blue and red is actually a factor of 1,000 change in gas density!!"
   ]
  },
  {
   "cell_type": "markdown",
   "metadata": {
    "deletable": true,
    "editable": true,
    "slideshow": {
     "slide_type": "slide"
    }
   },
   "source": [
    "## Array Indexing - A final example\n",
    "\n",
    "* I wish to calculate the typical magnetic field strength and density in two temperature ranges\n",
    "* We'll call these cold, warm and hot\n",
    "$$ \\begin{cases}\n",
    "     \\rm{warm} & \\text{if $500<T<500,000$ K} \\\\\n",
    "    \\rm{hot} & \\text{if $T>500,000$ K}\n",
    "\\end{cases}$$\n",
    "\n",
    "* Let's write a function which takes an array and calculates the mean and standard deviation of that array for the different temperature ranges"
   ]
  },
  {
   "cell_type": "code",
   "execution_count": null,
   "metadata": {
    "collapsed": false,
    "deletable": true,
    "editable": true,
    "slideshow": {
     "slide_type": "subslide"
    }
   },
   "outputs": [],
   "source": [
    "def sep_phase(arr,tt,output=False):\n",
    "    #Create storage array for return values\n",
    "    #3 temperature ranges and two values returned for each range\n",
    "    rets = np.zeros([2,2])\n",
    "    #Store all temperature filters in a list\n",
    "    range_labels = ['Warm','Hot']\n",
    "    ranges = [(tt > 500) & (tt < 5e5), tt > 5e5]\n",
    "    for i in np.arange(2):\n",
    "        rets[i] = [np.mean(arr[ranges[i]]), np.std(arr[ranges[i]])]\n",
    "        if output:\n",
    "            print(range_labels[i], 'phase - Mean and SD:', rets[i])\n",
    "    return rets\n",
    "\n",
    "sep_phase(rho,tt,output=True)"
   ]
  },
  {
   "cell_type": "markdown",
   "metadata": {
    "deletable": true,
    "editable": true,
    "slideshow": {
     "slide_type": "slide"
    }
   },
   "source": [
    "## Interactive code using [```input```](https://docs.python.org/3/library/functions.html#input)\n",
    "\n",
    "* You may wish to write interactive code and run it in Python\n",
    "* This requires input from the user\n",
    "* Let's have a look at how it can be used in code"
   ]
  },
  {
   "cell_type": "code",
   "execution_count": null,
   "metadata": {
    "collapsed": false,
    "deletable": true,
    "editable": true,
    "slideshow": {
     "slide_type": "subslide"
    }
   },
   "outputs": [],
   "source": [
    "#You may ask a user which calculation they wish to make\n",
    "\n",
    "#Let's define some labels for the calculation\n",
    "typ_lab = {'m': 'mean', 's': 'standard deviation'}\n",
    "#Now ask the user for input\n",
    "#The 'm/s' option at the end gives the user a clue as to input format\n",
    "#Helping the user with formatting guidelines will reduce errors \n",
    "calc_type = input('Calculate mean or standard deviation? m/s: ')\n",
    "\n",
    "#Let's just see what's been \n",
    "if calc_type == 'm':\n",
    "    #Write code to calculate the mean and prepare output\n",
    "    print('You have instructed the code to calculate the', typ_lab[calc_type])\n",
    "elif calc_type == 's':\n",
    "    #Write code to calculate the standard deviation and prepare output\n",
    "    print('You have instructed the code to calculate the', typ_lab[calc_type])\n",
    "    \n",
    "#Try running this with 'm', 's', and 'M', 'S'\n",
    "#What happens?"
   ]
  },
  {
   "cell_type": "markdown",
   "metadata": {
    "deletable": true,
    "editable": true,
    "slideshow": {
     "slide_type": "subslide"
    }
   },
   "source": [
    "* The code works if you enter 'm' or 's' but not 'M' or 'S'\n",
    "* Is this reasonable?\n",
    "* If you looked at 'm' or 'M', you'd know what the user meant\n",
    "* They might have entered a capital letter by mistake, say 'M'\n",
    "* There are certain errors which good code should anticipate\n",
    "* So why don't we make a small change to give the user a little scope for error?"
   ]
  },
  {
   "cell_type": "code",
   "execution_count": null,
   "metadata": {
    "collapsed": false,
    "deletable": true,
    "editable": true,
    "slideshow": {
     "slide_type": "subslide"
    }
   },
   "outputs": [],
   "source": [
    "#You may ask a user which calculation they wish to make\n",
    "\n",
    "#Let's define some labels for the calculation\n",
    "typ_lab = {'m': 'mean', 's': 'standard deviation'}\n",
    "#Now ask the user for input\n",
    "#The 'm/s' option at the end gives the user a clue as to input format\n",
    "#Helping the user with formatting guidelines will reduce errors \n",
    "calc_type = input('Calculate mean or standard deviation? m/s: ')\n",
    "\n",
    "#Let's just see what's been \n",
    "if calc_type.lower() == 'm':\n",
    "    #Write code to calculate the mean and prepare output\n",
    "    #Remember to change calc_type to lower case\n",
    "    #Otherwise, the dictionary will produce an error\n",
    "    calc_type = calc_type.lower()\n",
    "    print('You have instructed the code to calculate the', typ_lab[calc_type.lower()])\n",
    "elif calc_type == 's':\n",
    "    #Write code to calculate the standard deviation and prepare output\n",
    "    calc_type = calc_type.lower()\n",
    "    print('You have instructed the code to calculate the', typ_lab[calc_type])\n",
    "    \n",
    "#Try running this with 'm', 's', and 'M', 'S'\n",
    "#What happens?"
   ]
  },
  {
   "cell_type": "markdown",
   "metadata": {
    "deletable": true,
    "editable": true,
    "slideshow": {
     "slide_type": "subslide"
    }
   },
   "source": [
    "* Ok, so you have now accounted for \"CAPS Lock error\"\n",
    "* There are now 2 questions\n",
    "    1. You've had to make changes across two branches of the control structure. What if you had many branches? Is it possible to makes the code neater, shorter and still achieve the same thing?\n",
    "    2. Have you accounted for all reasonable inputs? What if the user ignores the 'm/s' at the end, and writes 'mean', 'Mean', 'standard deviation' or 'STANDARD DEVIATION'?\n",
    "* This conundrum can be solved with two further modifications    "
   ]
  },
  {
   "cell_type": "code",
   "execution_count": null,
   "metadata": {
    "collapsed": false,
    "deletable": true,
    "editable": true,
    "slideshow": {
     "slide_type": "subslide"
    }
   },
   "outputs": [],
   "source": [
    "#You may ask a user which calculation they wish to make\n",
    "\n",
    "#Let's define some labels for the calculation\n",
    "typ_lab = {'m':'mean','s':'standard deviation'}\n",
    "#Now ask the user for input\n",
    "#The 'm/s' option at the end gives the user a clue as to input format\n",
    "#Helping the user with formatting guidelines will reduce errors \n",
    "calc_type = input('Calculate mean or standard deviation? m/s')\n",
    "calc_type = calc_type.lower()\n",
    "\n",
    "#Let's just see what's been \n",
    "if (calc_type == 'm') or (calc_type == 'mean'):\n",
    "    #Write code to calculate the mean and prepare output\n",
    "    print('You have instructed the code to calculate the', typ_lab['m'])\n",
    "elif (calc_type == 's') or (calc_type == 'standard deviation') or (calc_type == 'sd'):\n",
    "    #Write code to calculate the standard deviation and prepare output\n",
    "    print('You have instructed the code to calculate the', typ_lab['s'])\n",
    "    \n",
    "#Try running this with different values, particularly something completely outlandish like ' m '\n",
    "#It's clear what it is to the human eye but this wouldn't satisfy any of the conditions in the control structure"
   ]
  },
  {
   "cell_type": "markdown",
   "metadata": {
    "deletable": true,
    "editable": true,
    "slideshow": {
     "slide_type": "subslide"
    }
   },
   "source": [
    "* You could do lots of neat things to clean up the input before running the code\n",
    "* This may create an overhead cost in terms of coding and maybe add a little run time at the start\n",
    "* But it could also save time by avoiding code crashes\n",
    "* For example, if the input was ```' m '```, using ```calc_type.strip()``` would get rid of whitespace around the 'm' value (David introduced this function earlier)\n",
    "* So, let's say we've accounted for all reasonable variations on the input we want\n",
    "* What if some mischievous individual entered 'pineapple'...because some people just want to watch the world burn\n",
    "* Well, you could raise an error and stop the code from running any further...\n"
   ]
  },
  {
   "cell_type": "code",
   "execution_count": null,
   "metadata": {
    "collapsed": false,
    "deletable": true,
    "editable": true,
    "slideshow": {
     "slide_type": "subslide"
    }
   },
   "outputs": [],
   "source": [
    "#You may ask a user which calculation they wish to make\n",
    "\n",
    "#Let's define some labels for the calculation\n",
    "typ_lab = {'m':'mean','s':'standard deviation'}\n",
    "#Now ask the user for input\n",
    "#The 'm/s' option at the end gives the user a clue as to input format\n",
    "#Helping the user with formatting guidelines will reduce errors \n",
    "calc_type = input('Calculate mean or standard deviation? m/s')\n",
    "calc_type = calc_type.lower()\n",
    "\n",
    "#Let's just see what's been \n",
    "if (calc_type=='m') or (calc_type=='mean'):\n",
    "    #Write code to calculate the mean and prepare output\n",
    "    print('You have instructed the code to calculate the', typ_lab['m'])\n",
    "elif (calc_type=='s') or (calc_type=='standard deviation') or (calc_type=='sd'):\n",
    "    #Write code to calculate the standard deviation and prepare output\n",
    "    print('You have instructed the code to calculate the', typ_lab['s'])\n",
    "else:\n",
    "    #Raise a ValueError and give an appropriate message\n",
    "    #raise ValueError(calc_type+' is not a valid input.')\n",
    "    #Or an inappropriate message\n",
    "    #Not recommended :p\n",
    "    raise ValueError(calc_type+'?! You are just being silly now!')\n",
    "\n",
    "#Go on, break the code. You know you want to..."
   ]
  },
  {
   "cell_type": "markdown",
   "metadata": {
    "deletable": true,
    "editable": true,
    "slideshow": {
     "slide_type": "subslide"
    }
   },
   "source": [
    "* You might not ask the user for input before you've run the code\n",
    "* You might have performed an expensive calculation and could be post-processing data\n",
    "* The user is most likely to be you...are you sure you want to crash the code following an incorrect input?\n",
    "* Maybe there's something a little milder?\n",
    "* Why not use a ```while``` loop to allow the user a certain number of tries (possibly infinite!)?"
   ]
  },
  {
   "cell_type": "code",
   "execution_count": null,
   "metadata": {
    "collapsed": false,
    "deletable": true,
    "editable": true,
    "slideshow": {
     "slide_type": "subslide"
    }
   },
   "outputs": [],
   "source": [
    "#You may ask a user which calculation they wish to make\n",
    "\n",
    "#Let's define some labels for the calculation\n",
    "typ_lab = {'m':'mean','s':'standard deviation'}\n",
    "#Now ask the user for input\n",
    "#The 'm/s' option at the end gives the user a clue as to input format\n",
    "#Helping the user with formatting guidelines will reduce errors \n",
    "correct_input=False; no_of_attempts = 0; max_attempts = 4\n",
    "\n",
    "#Let's just see what's been\n",
    "while (correct_input==False)and(no_of_attempts<max_attempts):\n",
    "    calc_type = input('Calculate mean or standard deviation? m/s')\n",
    "    calc_type = calc_type.lower()\n",
    "    if (calc_type=='m')or(calc_type=='mean'):\n",
    "        #Write code to calculate the mean and prepare output\n",
    "        print('You have instructed the code to calculate the '+typ_lab['m'])\n",
    "        #Switch off while loop by letting it know you have the correct input format\n",
    "        correct_input=True\n",
    "    elif (calc_type=='s')or(calc_type=='standard deviation')or(calc_type=='sd'):\n",
    "        #Write code to calculate the standard deviation and prepare output\n",
    "        print('You have instructed the code to calculate the '+typ_lab['s'])\n",
    "        #Switch off while loop by letting it know you have the correct input format\n",
    "        correct_input=True\n",
    "    else:\n",
    "        no_of_attempts +=1\n",
    "if (correct_input==False)and(no_of_attempts>=max_attempts):\n",
    "    raise ValueError('I gave you '+str(max_attempts)+' chances but you have left me with no choice; I had to raise a ValueError.')\n",
    "#Go on, break the code. You know you want to..."
   ]
  },
  {
   "cell_type": "markdown",
   "metadata": {
    "deletable": true,
    "editable": true,
    "slideshow": {
     "slide_type": "subslide"
    }
   },
   "source": [
    "* If you would like a little more information on raising errors in your code\n",
    "* [Have a look here](https://docs.python.org/3/tutorial/errors.html)"
   ]
  },
  {
   "cell_type": "markdown",
   "metadata": {
    "deletable": true,
    "editable": true,
    "slideshow": {
     "slide_type": "slide"
    }
   },
   "source": [
    "## Saving output - text\n",
    "\n",
    "* It can be very helpful to output calculated values to a text file\n",
    "* These are typically summary values for data\n",
    "* If you wish to save datasets, you can do this as a NumPy array via\n",
    "```\n",
    "np.save('your_data.npy',your_data)\n",
    "```\n",
    "\n",
    "* First, let's open up a text file to output to"
   ]
  },
  {
   "cell_type": "code",
   "execution_count": null,
   "metadata": {
    "collapsed": false,
    "deletable": true,
    "editable": true,
    "slideshow": {
     "slide_type": "subslide"
    }
   },
   "outputs": [],
   "source": [
    "file = open('example_output.txt','w')\n",
    "file.write('Hello, World\\n')\n",
    "file.write('I am thinking of a number between 0 and 10.\\n')\n",
    "file.write('The number is indeed 7.\\n')\n",
    "file.write('Well done! You win!!\\n')\n",
    "file.close()"
   ]
  },
  {
   "cell_type": "markdown",
   "metadata": {
    "deletable": true,
    "editable": true,
    "slideshow": {
     "slide_type": "subslide"
    }
   },
   "source": [
    "* The output to the file can be formatted in fancier ways\n",
    "* [Have a look here](https://docs.python.org/3.6/tutorial/inputoutput.html)\n",
    "* When you start makign and editing files, there are certain things to consider:\n",
    "    1. Does another file exist by the same name?\n",
    "    2. If so, is it important? Or would you like to delete the existing output file and create the current file with this name?\n",
    "    3. Otherwise, you need a new name for your current output file"
   ]
  },
  {
   "cell_type": "code",
   "execution_count": null,
   "metadata": {
    "collapsed": true,
    "deletable": true,
    "editable": true,
    "slideshow": {
     "slide_type": "subslide"
    }
   },
   "outputs": [],
   "source": [
    "file_name = 'example_output.txt'\n",
    "#Check whether the file name you are considering already exists in your directory\n",
    "file_exist = os.path.isfile(file_name)\n",
    "if file_exist==True:\n",
    "#You could just use `if file_exist:'\n",
    "#If file already exists in folder\n",
    "    print('The file '+file_name+' already exists in '+os.getcwd()+'\\n')\n",
    "    #Ask user whether they wish to overwrite existing file\n",
    "    file_overwrite = input('Do you wish to overwrite the existing file? True/False')\n",
    "    if file_overwrite:\n",
    "        #Remove the old file\n",
    "        os.rm(file_name)\n",
    "        #Open the output file under the proposed name\n",
    "        output = open(file_name,'w')\n",
    "    else:\n",
    "        #Do not overwrite old file\n",
    "        #Ask user for a different name for the output file\n",
    "        new_name = input('Please enter a new name for your file')\n",
    "        #Open the output file under the new name \n",
    "        output = open(new_name,'w')\n",
    "else:\n",
    "    #File name is not taken. No problem\n",
    "    #Open output file under proposed name\n",
    "    output = open(file_name,'w')"
   ]
  },
  {
   "cell_type": "markdown",
   "metadata": {
    "deletable": true,
    "editable": true,
    "slideshow": {
     "slide_type": "subslide"
    }
   },
   "source": [
    "## Cheeky challenge\n",
    "\n",
    "Turn the routine above into a function which accepts the file_name as an argument, opens the file, takes a single sentence and closes the file."
   ]
  },
  {
   "cell_type": "code",
   "execution_count": null,
   "metadata": {
    "collapsed": true,
    "deletable": true,
    "editable": true
   },
   "outputs": [],
   "source": [
    "def make_file(file_name):\n",
    "    file_name = 'example_output.txt'\n",
    "    #Check whether the file name you are considering already exists in your directory\n",
    "    file_exist = os.path.isfile(file_name)\n",
    "    if file_exist==True:\n",
    "    #You could just use `if file_exist:'\n",
    "    #If file already exists in folder\n",
    "        print('The file '+file_name+' already exists in '+os.getcwd()+'\\n')\n",
    "        #Ask user whether they wish to overwrite existing file\n",
    "        file_overwrite = eval(input('Do you wish to overwrite the existing file? True/False'))\n",
    "        if file_overwrite:\n",
    "            #Remove the old file\n",
    "            os.remove(file_name)\n",
    "            #Open the output file under the proposed name\n",
    "            output = open(file_name,'w')\n",
    "        else:\n",
    "            #Do not overwrite old file\n",
    "            #Ask user for a different name for the output file\n",
    "            new_name = input('Please enter a new name for your file')\n",
    "            #Open the output file under the new name \n",
    "            output = open(new_name,'w')\n",
    "    else:\n",
    "        #File name is not taken. No problem\n",
    "        #Open output file under proposed name\n",
    "        output = open(file_name,'w')\n",
    "    add_line = input('Please give me a number between 0 and 10.')\n",
    "    output.write('This user rather likes the number '+str(add_line)+'!\\n')\n",
    "    output.write('Cheerio, old friend!')\n",
    "    output.close()"
   ]
  },
  {
   "cell_type": "code",
   "execution_count": null,
   "metadata": {
    "collapsed": false,
    "deletable": true,
    "editable": true
   },
   "outputs": [],
   "source": [
    "make_file('example_output.txt')"
   ]
  },
  {
   "cell_type": "markdown",
   "metadata": {
    "deletable": true,
    "editable": true,
    "slideshow": {
     "slide_type": "slide"
    }
   },
   "source": [
    "## Where do you save your output?\n",
    "\n",
    "* Unless we instruct the code to save the output in a specific location, it will save it whichever directory we are currently in\n",
    "* This is a dangerous situation...\n",
    "* You are most likely to want to keep raw data and post-processed output separate\n",
    "* Or more importantly, you do not want your output dumped into one big folder\n",
    "* This is how you end up many copies of the following, all in one place:\n",
    "    1. ```draft1```\n",
    "    2. ```draft2,3,4,5,6,...```\n",
    "    3. ```final_draft```\n",
    "    4. ```seriously_final_draft```\n",
    "    5. ```please_let_it_be_the_final_draft```\n",
    "    6. ```help_me```\n",
    "* Overcome this problem by creating directories for specific tasks and datasets\n",
    "* This also helps automate post-processing, if you want to run the same calculation on a billion parameter values...\n",
    "* So, why don't we make a new directory for output and move our file there?\n",
    "    "
   ]
  },
  {
   "cell_type": "code",
   "execution_count": null,
   "metadata": {
    "collapsed": false,
    "deletable": true,
    "editable": true,
    "slideshow": {
     "slide_type": "subslide"
    }
   },
   "outputs": [],
   "source": [
    "#We do need to go through the same checks as before but for the directory\n",
    "def make_dir(dir_name):\n",
    "    dir_name = os.getcwd()+'/example_dir'\n",
    "    dir_exist = os.path.isdir(dir_name)\n",
    "    if dir_exist==True:\n",
    "        print('The directory '+dir_name+' already exists.\\n')\n",
    "        #Ask user whether they wish to overwrite existing file\n",
    "        #########################################################################################\n",
    "        dir_overwrite = eval(input('Do you wish to overwrite the existing directory? True/False'))\n",
    "        #########################################################################################\n",
    "        if dir_overwrite==True:\n",
    "            #Remove the old directory\n",
    "            os.rmdir(dir_name)\n",
    "            #Make new directory\n",
    "            os.mkdir(dir_name)\n",
    "        else:\n",
    "            #Do not overwrite old directory\n",
    "            #Ask user for a different name for the output file\n",
    "            new_name = input('Please enter a new name for your directory')\n",
    "            #Open the directory under the new name \n",
    "            os.mkdir(new_name)\n",
    "    else:\n",
    "        #Directory path is not taken. No problem\n",
    "        #Open directory under proposed name\n",
    "        os.mkdir(dir_name)\n",
    "#Run code and make new directory 'example_dir'\n",
    "cwd = os.getcwd()\n",
    "dir_name = os.getcwd()+'/example_dir'\n",
    "make_dir(dir_name)\n",
    "#Let's move our example_output.txt file to the new folder\n",
    "os.rename(cwd+'/example_output.txt',dir_name+'/example_output.txt')"
   ]
  },
  {
   "cell_type": "markdown",
   "metadata": {
    "deletable": true,
    "editable": true,
    "slideshow": {
     "slide_type": "slide"
    }
   },
   "source": [
    "## Automating saving output files\n",
    "\n",
    "* Let's say that you have N calculations, each with two different types of output, to run and wish to save these outputs\n",
    "* You can save alongside your calculations\n",
    "* Before we continue to the example, let's modify the ```make_file``` and ```make_dir``` functions to work in a for loop without asking the user for input"
   ]
  },
  {
   "cell_type": "code",
   "execution_count": null,
   "metadata": {
    "collapsed": true,
    "deletable": true,
    "editable": true
   },
   "outputs": [],
   "source": [
    "def make_file(file_name,info):\n",
    "    #Check whether the file name you are considering already exists in your directory\n",
    "    file_exist = os.path.isfile(file_name)\n",
    "    if file_exist==True:    \n",
    "        #Remove the old file\n",
    "        os.remove(file_name)\n",
    "        #Open the output file under the proposed name\n",
    "        output = open(file_name,'w')\n",
    "    else:\n",
    "        #File name is not taken. No problem\n",
    "        #Open output file under proposed name\n",
    "        output = open(file_name,'w')\n",
    "    output.write('This user rather likes the number '+str(info)+'!\\n')\n",
    "    output.close()\n",
    "#Modify directory making function to overwrite if directory exists only\n",
    "#No user input now\n",
    "def make_dir(dir_name):\n",
    "    import shutil\n",
    "    dir_exist = os.path.isdir(dir_name)\n",
    "    if dir_exist==True:\n",
    "        #Remove the old dir\n",
    "        shutil.rmtree(dir_name, ignore_errors=True)\n",
    "        #os.rmdir(dir_name)\n",
    "        #Make new directory\n",
    "        os.mkdir(dir_name)\n",
    "    else:\n",
    "        #Directory path is not taken. No problem\n",
    "        #Open directory under proposed name\n",
    "        os.mkdir(dir_name)\n"
   ]
  },
  {
   "cell_type": "code",
   "execution_count": null,
   "metadata": {
    "collapsed": false,
    "deletable": true,
    "editable": true,
    "slideshow": {
     "slide_type": "subslide"
    }
   },
   "outputs": [],
   "source": [
    "usr = os.path.expanduser('~')\n",
    "os.chdir(usr+'/Documents/pg_module/python_shared/pgrdp-python')\n",
    "no_of_output_types = 2\n",
    "no_of_calculations = 5\n",
    "#Make a main directory for outputs\n",
    "sv_home = os.getcwd()+'/output_for_calculations'\n",
    "make_dir(sv_home)\n",
    "\n",
    "for i in np.arange(no_of_output_types):\n",
    "    #Go to main directory\n",
    "    os.chdir(sv_home)\n",
    "    #Make sub-directory\n",
    "    out_dir = sv_home+'/type'+str(i)\n",
    "    make_dir(out_dir)\n",
    "    #Go to sub-directory for current output type\n",
    "    os.chdir(out_dir)\n",
    "    for j in np.arange(no_of_calculations):\n",
    "        make_file('calculation_no_'+str(j)+'.txt',j)\n"
   ]
  },
  {
   "cell_type": "markdown",
   "metadata": {
    "deletable": true,
    "editable": true,
    "slideshow": {
     "slide_type": "slide"
    }
   },
   "source": [
    "\n",
    "## A quick look at [SciPy](https://docs.scipy.org/doc/scipy/reference/)\n",
    "\n",
    "* We won't have time to cover any of the SciPy sub-modules today\n",
    "* We could (easily) spend a day each on the routines available in SciPy\n",
    "* Let us know if you're interested in particular applications"
   ]
  },
  {
   "cell_type": "markdown",
   "metadata": {
    "deletable": true,
    "editable": true,
    "slideshow": {
     "slide_type": "slide"
    }
   },
   "source": [
    "## A quick look at plotting with [```matplotlib```](http://matplotlib.org/)\n",
    "\n",
    "* Have a look at the link above for the plot styles available\n",
    "* Plotting with ```matplotlib``` could be a day course in itself\n",
    "* We'll focus on setting up a professional looking 2D plot for a simple line plot"
   ]
  },
  {
   "cell_type": "code",
   "execution_count": null,
   "metadata": {
    "collapsed": true,
    "deletable": true,
    "editable": true,
    "slideshow": {
     "slide_type": "subslide"
    }
   },
   "outputs": [],
   "source": [
    "import matplotlib.pyplot as plt\n",
    "\n",
    "#Data to be plotted\n",
    "x = np.mgrid[-5:5:0.01]\n",
    "y = x**2\n",
    "\n",
    "#First, create a figure\n",
    "fig = plt.figure(figsize=[10,6])\n",
    "\n",
    "#Create an axis\n",
    "ax = fig.add_subplot(1,1,1)\n",
    "#fig.add_subplot(nrows,ncols,plot_no)\n",
    "#nrows - number of rows\n",
    "#ncols - number of colums\n",
    "#plot_no - position of current axis on grid 0 upto nrows*ncols-1\n",
    "#Show the figure so far\n",
    "\n",
    "#Add an x and y label\n",
    "ax.set_xlabel(r'$x$ label [units]',fontsize=22)\n",
    "ax.set_ylabel(r'$y$ label [units]',fontsize=22)\n",
    "\n",
    "#Add titles\n",
    "ax.set_title(r'Axis title',fontsize=26)\n",
    "plt.suptitle('Figure title',fontsize=32)\n",
    "\n",
    "#Add text to the figure\n",
    "plt.figtext(0.325,0.5,'This is a plot with text',fontsize=22,color='blue')\n",
    "\n",
    "#Plot data\n",
    "ax.plot(x,y,ls='-',c='blue',lw=1,label=r'$y=x^2$')\n",
    "ax.plot(x,2*y,ls='--',c='blue',lw=2,label=r'$y=2x^2$')\n",
    "ax.plot(x,3*y,ls='-.',c='red',lw=3,label=r'$y=3x^2$')\n",
    "\n",
    "\n",
    "plt.show()"
   ]
  },
  {
   "cell_type": "markdown",
   "metadata": {
    "deletable": true,
    "editable": true,
    "slideshow": {
     "slide_type": "subslide"
    }
   },
   "source": [
    "## Cheeky discussion\n",
    "\n",
    "What are the issues with the plot?"
   ]
  },
  {
   "cell_type": "markdown",
   "metadata": {
    "deletable": true,
    "editable": true,
    "slideshow": {
     "slide_type": "subslide"
    }
   },
   "source": [
    "* Here are a few ideas:\n",
    "    1. The figure and axis titles overlap - yuck\n",
    "    2. The axis labels a pretty small\n",
    "    3. Are we happy with the x tick and y tick sizes?\n",
    "    4. How about a legend, so that we know what each line represents? "
   ]
  },
  {
   "cell_type": "code",
   "execution_count": null,
   "metadata": {
    "collapsed": true,
    "deletable": true,
    "editable": true,
    "slideshow": {
     "slide_type": "subslide"
    }
   },
   "outputs": [],
   "source": [
    "import matplotlib.pyplot as plt\n",
    "\n",
    "#Data to be plotted\n",
    "x = np.mgrid[-5:5:0.01]\n",
    "y = x**2\n",
    "\n",
    "#First, create a figure\n",
    "fig = plt.figure(figsize=[10,6])\n",
    "\n",
    "#Create an axis\n",
    "ax = fig.add_subplot(1,1,1)\n",
    "#fig.add_subplot(nrows,ncols,plot_no)\n",
    "#nrows - number of rows\n",
    "#ncols - number of colums\n",
    "#plot_no - position of current axis on grid 0 upto nrows*ncols-1\n",
    "#Show the figure so far\n",
    "\n",
    "#Add titles\n",
    "ax.set_title(r'Axis title',fontsize=26)\n",
    "plt.suptitle('Figure title',fontsize=32)\n",
    "\n",
    "######Change 1\n",
    "plt.subplots_adjust(top=0.85,bottom=0.14 )\n",
    "\n",
    "#Add an x and y label\n",
    "ax.set_xlabel(r'$x$ label [units]',fontsize=22)\n",
    "ax.set_ylabel(r'$y$ label [units]',fontsize=22)\n",
    "\n",
    "######Changes 2 & 3\n",
    "ax.tick_params(labelsize=20,length=10,width=2)\n",
    "\n",
    "#Add text to the figure\n",
    "plt.figtext(0.325,0.5,'This is a plot with text',fontsize=22,color='blue')\n",
    "\n",
    "#Plot data\n",
    "ax.plot(x,y,ls='-',c='blue',lw=1,label=r'$y=x^2$')\n",
    "ax.plot(x,2*y,ls='--',c='blue',lw=2,label=r'$y=2x^2$')\n",
    "ax.plot(x,3*y,ls='-.',c='red',lw=3,label=r'$y=3x^2$')\n",
    "\n",
    "#Change 4\n",
    "ax.legend(fontsize=20)\n",
    "\n",
    "plt.show()"
   ]
  },
  {
   "cell_type": "markdown",
   "metadata": {
    "deletable": true,
    "editable": true,
    "slideshow": {
     "slide_type": "subslide"
    }
   },
   "source": [
    "* This is looking better\n",
    "* There is still a problem, though...\n",
    "* The legend cuts off a part of the plot :(\n",
    "* Change 5: We can adjust the location of the legend\n",
    "* [More information given here](http://matplotlib.org/users/legend_guide.html)"
   ]
  },
  {
   "cell_type": "code",
   "execution_count": null,
   "metadata": {
    "collapsed": true,
    "deletable": true,
    "editable": true,
    "slideshow": {
     "slide_type": "subslide"
    }
   },
   "outputs": [],
   "source": [
    "import matplotlib.pyplot as plt\n",
    "\n",
    "#Data to be plotted\n",
    "x = np.mgrid[-5:5:0.01]\n",
    "y = x**2\n",
    "\n",
    "#First, create a figure\n",
    "fig = plt.figure(figsize=[10,6])\n",
    "\n",
    "#Create an axis\n",
    "ax = fig.add_subplot(1,1,1)\n",
    "#fig.add_subplot(nrows,ncols,plot_no)\n",
    "#nrows - number of rows\n",
    "#ncols - number of colums\n",
    "#plot_no - position of current axis on grid 0 upto nrows*ncols-1\n",
    "#Show the figure so far\n",
    "\n",
    "#Add titles\n",
    "ax.set_title(r'Axis title',fontsize=26)\n",
    "plt.suptitle('Figure title',fontsize=32)\n",
    "\n",
    "######Change 1\n",
    "plt.subplots_adjust(top=0.85,bottom=0.14 )\n",
    "\n",
    "#Add an x and y label\n",
    "ax.set_xlabel(r'$x$ label [units]',fontsize=22)\n",
    "ax.set_ylabel(r'$y$ label [units]',fontsize=22)\n",
    "\n",
    "######Changes 2 & 3\n",
    "ax.tick_params(labelsize=20,length=10,width=2)\n",
    "\n",
    "#Add text to the figure\n",
    "plt.figtext(0.325,0.5,'This is a plot with text',fontsize=22,color='blue')\n",
    "\n",
    "#Plot data\n",
    "ax.plot(x,y,ls='-',c='blue',lw=1,label=r'$y=x^2$')\n",
    "ax.plot(x,2*y,ls='--',c='blue',lw=2,label=r'$y=2x^2$')\n",
    "ax.plot(x,3*y,ls='-.',c='red',lw=3,label=r'$y=3x^2$')\n",
    "\n",
    "#Change 4\n",
    "ax.legend(fontsize=20,loc=9)\n",
    "\n",
    "plt.show()"
   ]
  }
 ],
 "metadata": {
  "kernelspec": {
   "display_name": "Python 3",
   "language": "python",
   "name": "python3"
  },
  "language_info": {
   "codemirror_mode": {
    "name": "ipython",
    "version": 3
   },
   "file_extension": ".py",
   "mimetype": "text/x-python",
   "name": "python",
   "nbconvert_exporter": "python",
   "pygments_lexer": "ipython3",
   "version": "3.6.0"
  }
 },
 "nbformat": 4,
 "nbformat_minor": 1
}
